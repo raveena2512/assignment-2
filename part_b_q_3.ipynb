{
  "nbformat": 4,
  "nbformat_minor": 0,
  "metadata": {
    "colab": {
      "name": "part-b_q-3",
      "provenance": []
    },
    "kernelspec": {
      "name": "python3",
      "display_name": "Python 3"
    },
    "language_info": {
      "name": "python"
    }
  },
  "cells": [
    {
      "cell_type": "code",
      "execution_count": null,
      "metadata": {
        "id": "axrmq1QEQGjh"
      },
      "outputs": [],
      "source": [
        "#hyperparameter sweeps used in the code\n",
        "\n",
        "sweep_config = {\n",
        "  \"name\": \"Bayesian Sweep\",\n",
        "  \"method\": \"bayes\",\n",
        "  \"metric\":{\n",
        "  \"name\": \"val_accuracy\",\n",
        "  \"goal\": \"maximize\"\n",
        "  },\n",
        "  'early_terminate': {\n",
        "        'type':'hyperband',\n",
        "        'min_iter': [3],\n",
        "        's': [2]\n",
        "  },\n",
        "  \"parameters\": {\n",
        "                    \n",
        "\n",
        "        \"base_model\": {\n",
        "            \"values\": [ \"XCPTN\", \"IV3\", \"RN50\", \"IRV2\"]\n",
        "        },\n",
        "        \"epochs\": {\n",
        "            \"values\": [ 5, 10, 3]\n",
        "        }, \n",
        "        \"dense_neurons\": {\n",
        "            \"values\": [ 128, 256]\n",
        "        },\n",
        "        \"batch_size\": {\n",
        "            \"values\": [ 16, 32]\n",
        "        },\n",
        "        \"optimizer\": {\n",
        "            \"values\": [ \"adam\",\"nadam\",\"rmsprop\"]\n",
        "        } \n",
        "              \n",
        "    }\n",
        "}\n",
        "\n",
        "\n",
        "\n",
        "#this config gives best val accuracy\n",
        "config_defaults={\n",
        "    'fc_size':128,\n",
        "    'batchnorm':'yes',\n",
        "    'augmentation':'yes',\n",
        "    'droprate':0.4,\n",
        "    'pre_train':'inceptionresnetv2'\n",
        "}"
      ]
    },
    {
      "cell_type": "code",
      "source": [
        "\n"
      ],
      "metadata": {
        "id": "Vr8vBkILb1Ya"
      },
      "execution_count": null,
      "outputs": []
    }
  ]
}