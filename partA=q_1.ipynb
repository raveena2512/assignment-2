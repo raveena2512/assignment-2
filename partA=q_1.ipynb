{
  "nbformat": 4,
  "nbformat_minor": 0,
  "metadata": {
    "colab": {
      "name": "partA=q-1",
      "provenance": []
    },
    "kernelspec": {
      "name": "python3",
      "display_name": "Python 3"
    },
    "language_info": {
      "name": "python"
    }
  },
  "cells": [
    {
      "cell_type": "code",
      "execution_count": null,
      "metadata": {
        "id": "IkMmo7lSfcxG"
      },
      "outputs": [],
      "source": [
        "#building a cnn of 5 convolution layers and an output layer\n",
        "\n",
        "model=models.Sequential()\n",
        "\n",
        "#1st layer \n",
        "model.add(Conv2D(filters[0], (3, 3),input_shape=(img_height,img_width,3),activation='relu'))    \n",
        "model.add(MaxPooling2D((2, 2)))\n",
        "\n",
        "#2nd layer\n",
        "model.add(Conv2D(filters[1], (3, 3),activation='relu'))\n",
        "model.add(MaxPooling2D((2, 2)))\n",
        "\n",
        "#3rd layer\n",
        "model.add(Conv2D(filters[2], (3, 3),activation='relu'))\n",
        "model.add(MaxPooling2D((2, 2)))\n",
        "\n",
        "#4th layer\n",
        "model.add(Conv2D(filters[3], (3, 3),activation='relu'))\n",
        "model.add(MaxPooling2D((2, 2)))\n",
        "\n",
        "#5th layer\n",
        "model.add(Conv2D(filters[4], (3, 3),activation='relu'))\n",
        "model.add(MaxPooling2D((2, 2)))\n",
        "\n",
        "model.add(Flatten())\n",
        "model.add(Dense(fc_size,activation='relu')) \n",
        "model.add(Dropout(droprate))\n",
        "\n",
        "#output layer\n",
        "model.add(Dense(10,activation='softmax')) #10 neurons for 10 classes"
      ]
    }
  ]
}