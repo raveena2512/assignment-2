{
  "nbformat": 4,
  "nbformat_minor": 0,
  "metadata": {
    "colab": {
      "name": "part-B final",
      "provenance": [],
      "collapsed_sections": []
    },
    "kernelspec": {
      "display_name": "Python 3",
      "name": "python3"
    },
    "language_info": {
      "name": "python"
    },
    "accelerator": "GPU",
    "widgets": {
      "application/vnd.jupyter.widget-state+json": {
        "efa1f56ed915439aba32bf1a9e5b673d": {
          "model_module": "@jupyter-widgets/controls",
          "model_name": "VBoxModel",
          "model_module_version": "1.5.0",
          "state": {
            "_dom_classes": [],
            "_model_module": "@jupyter-widgets/controls",
            "_model_module_version": "1.5.0",
            "_model_name": "VBoxModel",
            "_view_count": null,
            "_view_module": "@jupyter-widgets/controls",
            "_view_module_version": "1.5.0",
            "_view_name": "VBoxView",
            "box_style": "",
            "children": [
              "IPY_MODEL_929767dcdb274005a19fe59b20d74578",
              "IPY_MODEL_23159c46847e49f28e0860ef1411ab77"
            ],
            "layout": "IPY_MODEL_bc47d7429b5b4a5aa517b0159a7477ca"
          }
        },
        "929767dcdb274005a19fe59b20d74578": {
          "model_module": "@jupyter-widgets/controls",
          "model_name": "LabelModel",
          "model_module_version": "1.5.0",
          "state": {
            "_dom_classes": [],
            "_model_module": "@jupyter-widgets/controls",
            "_model_module_version": "1.5.0",
            "_model_name": "LabelModel",
            "_view_count": null,
            "_view_module": "@jupyter-widgets/controls",
            "_view_module_version": "1.5.0",
            "_view_name": "LabelView",
            "description": "",
            "description_tooltip": null,
            "layout": "IPY_MODEL_ecd7798032804a7ca219c0ff56c26e56",
            "placeholder": "​",
            "style": "IPY_MODEL_a89c0b20b5174f46994bb3b97c781f5f",
            "value": "352.781 MB of 352.781 MB uploaded (0.000 MB deduped)\r"
          }
        },
        "23159c46847e49f28e0860ef1411ab77": {
          "model_module": "@jupyter-widgets/controls",
          "model_name": "FloatProgressModel",
          "model_module_version": "1.5.0",
          "state": {
            "_dom_classes": [],
            "_model_module": "@jupyter-widgets/controls",
            "_model_module_version": "1.5.0",
            "_model_name": "FloatProgressModel",
            "_view_count": null,
            "_view_module": "@jupyter-widgets/controls",
            "_view_module_version": "1.5.0",
            "_view_name": "ProgressView",
            "bar_style": "",
            "description": "",
            "description_tooltip": null,
            "layout": "IPY_MODEL_8394deee75574315a91cd0be7fae91ae",
            "max": 1,
            "min": 0,
            "orientation": "horizontal",
            "style": "IPY_MODEL_ebce6fafcf374e66bf5fe9db8e261794",
            "value": 1
          }
        },
        "bc47d7429b5b4a5aa517b0159a7477ca": {
          "model_module": "@jupyter-widgets/base",
          "model_name": "LayoutModel",
          "model_module_version": "1.2.0",
          "state": {
            "_model_module": "@jupyter-widgets/base",
            "_model_module_version": "1.2.0",
            "_model_name": "LayoutModel",
            "_view_count": null,
            "_view_module": "@jupyter-widgets/base",
            "_view_module_version": "1.2.0",
            "_view_name": "LayoutView",
            "align_content": null,
            "align_items": null,
            "align_self": null,
            "border": null,
            "bottom": null,
            "display": null,
            "flex": null,
            "flex_flow": null,
            "grid_area": null,
            "grid_auto_columns": null,
            "grid_auto_flow": null,
            "grid_auto_rows": null,
            "grid_column": null,
            "grid_gap": null,
            "grid_row": null,
            "grid_template_areas": null,
            "grid_template_columns": null,
            "grid_template_rows": null,
            "height": null,
            "justify_content": null,
            "justify_items": null,
            "left": null,
            "margin": null,
            "max_height": null,
            "max_width": null,
            "min_height": null,
            "min_width": null,
            "object_fit": null,
            "object_position": null,
            "order": null,
            "overflow": null,
            "overflow_x": null,
            "overflow_y": null,
            "padding": null,
            "right": null,
            "top": null,
            "visibility": null,
            "width": null
          }
        },
        "ecd7798032804a7ca219c0ff56c26e56": {
          "model_module": "@jupyter-widgets/base",
          "model_name": "LayoutModel",
          "model_module_version": "1.2.0",
          "state": {
            "_model_module": "@jupyter-widgets/base",
            "_model_module_version": "1.2.0",
            "_model_name": "LayoutModel",
            "_view_count": null,
            "_view_module": "@jupyter-widgets/base",
            "_view_module_version": "1.2.0",
            "_view_name": "LayoutView",
            "align_content": null,
            "align_items": null,
            "align_self": null,
            "border": null,
            "bottom": null,
            "display": null,
            "flex": null,
            "flex_flow": null,
            "grid_area": null,
            "grid_auto_columns": null,
            "grid_auto_flow": null,
            "grid_auto_rows": null,
            "grid_column": null,
            "grid_gap": null,
            "grid_row": null,
            "grid_template_areas": null,
            "grid_template_columns": null,
            "grid_template_rows": null,
            "height": null,
            "justify_content": null,
            "justify_items": null,
            "left": null,
            "margin": null,
            "max_height": null,
            "max_width": null,
            "min_height": null,
            "min_width": null,
            "object_fit": null,
            "object_position": null,
            "order": null,
            "overflow": null,
            "overflow_x": null,
            "overflow_y": null,
            "padding": null,
            "right": null,
            "top": null,
            "visibility": null,
            "width": null
          }
        },
        "a89c0b20b5174f46994bb3b97c781f5f": {
          "model_module": "@jupyter-widgets/controls",
          "model_name": "DescriptionStyleModel",
          "model_module_version": "1.5.0",
          "state": {
            "_model_module": "@jupyter-widgets/controls",
            "_model_module_version": "1.5.0",
            "_model_name": "DescriptionStyleModel",
            "_view_count": null,
            "_view_module": "@jupyter-widgets/base",
            "_view_module_version": "1.2.0",
            "_view_name": "StyleView",
            "description_width": ""
          }
        },
        "8394deee75574315a91cd0be7fae91ae": {
          "model_module": "@jupyter-widgets/base",
          "model_name": "LayoutModel",
          "model_module_version": "1.2.0",
          "state": {
            "_model_module": "@jupyter-widgets/base",
            "_model_module_version": "1.2.0",
            "_model_name": "LayoutModel",
            "_view_count": null,
            "_view_module": "@jupyter-widgets/base",
            "_view_module_version": "1.2.0",
            "_view_name": "LayoutView",
            "align_content": null,
            "align_items": null,
            "align_self": null,
            "border": null,
            "bottom": null,
            "display": null,
            "flex": null,
            "flex_flow": null,
            "grid_area": null,
            "grid_auto_columns": null,
            "grid_auto_flow": null,
            "grid_auto_rows": null,
            "grid_column": null,
            "grid_gap": null,
            "grid_row": null,
            "grid_template_areas": null,
            "grid_template_columns": null,
            "grid_template_rows": null,
            "height": null,
            "justify_content": null,
            "justify_items": null,
            "left": null,
            "margin": null,
            "max_height": null,
            "max_width": null,
            "min_height": null,
            "min_width": null,
            "object_fit": null,
            "object_position": null,
            "order": null,
            "overflow": null,
            "overflow_x": null,
            "overflow_y": null,
            "padding": null,
            "right": null,
            "top": null,
            "visibility": null,
            "width": null
          }
        },
        "ebce6fafcf374e66bf5fe9db8e261794": {
          "model_module": "@jupyter-widgets/controls",
          "model_name": "ProgressStyleModel",
          "model_module_version": "1.5.0",
          "state": {
            "_model_module": "@jupyter-widgets/controls",
            "_model_module_version": "1.5.0",
            "_model_name": "ProgressStyleModel",
            "_view_count": null,
            "_view_module": "@jupyter-widgets/base",
            "_view_module_version": "1.2.0",
            "_view_name": "StyleView",
            "bar_color": null,
            "description_width": ""
          }
        },
        "8f0cff447e314c3080d33286adee3aca": {
          "model_module": "@jupyter-widgets/controls",
          "model_name": "VBoxModel",
          "model_module_version": "1.5.0",
          "state": {
            "_dom_classes": [],
            "_model_module": "@jupyter-widgets/controls",
            "_model_module_version": "1.5.0",
            "_model_name": "VBoxModel",
            "_view_count": null,
            "_view_module": "@jupyter-widgets/controls",
            "_view_module_version": "1.5.0",
            "_view_name": "VBoxView",
            "box_style": "",
            "children": [
              "IPY_MODEL_41b873d32479455995db0d2abb97d0d2",
              "IPY_MODEL_e9a75203a7b3476a84811656193d5f46"
            ],
            "layout": "IPY_MODEL_f49d0eca3431432196e2a996b6ee6d58"
          }
        },
        "41b873d32479455995db0d2abb97d0d2": {
          "model_module": "@jupyter-widgets/controls",
          "model_name": "LabelModel",
          "model_module_version": "1.5.0",
          "state": {
            "_dom_classes": [],
            "_model_module": "@jupyter-widgets/controls",
            "_model_module_version": "1.5.0",
            "_model_name": "LabelModel",
            "_view_count": null,
            "_view_module": "@jupyter-widgets/controls",
            "_view_module_version": "1.5.0",
            "_view_name": "LabelView",
            "description": "",
            "description_tooltip": null,
            "layout": "IPY_MODEL_e0af6d425d90412db357b9abb4c8bda4",
            "placeholder": "​",
            "style": "IPY_MODEL_8af58c4197554959b3cfabaf54e81218",
            "value": "352.792 MB of 352.792 MB uploaded (0.000 MB deduped)\r"
          }
        },
        "e9a75203a7b3476a84811656193d5f46": {
          "model_module": "@jupyter-widgets/controls",
          "model_name": "FloatProgressModel",
          "model_module_version": "1.5.0",
          "state": {
            "_dom_classes": [],
            "_model_module": "@jupyter-widgets/controls",
            "_model_module_version": "1.5.0",
            "_model_name": "FloatProgressModel",
            "_view_count": null,
            "_view_module": "@jupyter-widgets/controls",
            "_view_module_version": "1.5.0",
            "_view_name": "ProgressView",
            "bar_style": "",
            "description": "",
            "description_tooltip": null,
            "layout": "IPY_MODEL_5bb5ac2875b34fe3ac948f6c68cf7e26",
            "max": 1,
            "min": 0,
            "orientation": "horizontal",
            "style": "IPY_MODEL_ac46ab3972b54a0e964e7674233c8ca2",
            "value": 1
          }
        },
        "f49d0eca3431432196e2a996b6ee6d58": {
          "model_module": "@jupyter-widgets/base",
          "model_name": "LayoutModel",
          "model_module_version": "1.2.0",
          "state": {
            "_model_module": "@jupyter-widgets/base",
            "_model_module_version": "1.2.0",
            "_model_name": "LayoutModel",
            "_view_count": null,
            "_view_module": "@jupyter-widgets/base",
            "_view_module_version": "1.2.0",
            "_view_name": "LayoutView",
            "align_content": null,
            "align_items": null,
            "align_self": null,
            "border": null,
            "bottom": null,
            "display": null,
            "flex": null,
            "flex_flow": null,
            "grid_area": null,
            "grid_auto_columns": null,
            "grid_auto_flow": null,
            "grid_auto_rows": null,
            "grid_column": null,
            "grid_gap": null,
            "grid_row": null,
            "grid_template_areas": null,
            "grid_template_columns": null,
            "grid_template_rows": null,
            "height": null,
            "justify_content": null,
            "justify_items": null,
            "left": null,
            "margin": null,
            "max_height": null,
            "max_width": null,
            "min_height": null,
            "min_width": null,
            "object_fit": null,
            "object_position": null,
            "order": null,
            "overflow": null,
            "overflow_x": null,
            "overflow_y": null,
            "padding": null,
            "right": null,
            "top": null,
            "visibility": null,
            "width": null
          }
        },
        "e0af6d425d90412db357b9abb4c8bda4": {
          "model_module": "@jupyter-widgets/base",
          "model_name": "LayoutModel",
          "model_module_version": "1.2.0",
          "state": {
            "_model_module": "@jupyter-widgets/base",
            "_model_module_version": "1.2.0",
            "_model_name": "LayoutModel",
            "_view_count": null,
            "_view_module": "@jupyter-widgets/base",
            "_view_module_version": "1.2.0",
            "_view_name": "LayoutView",
            "align_content": null,
            "align_items": null,
            "align_self": null,
            "border": null,
            "bottom": null,
            "display": null,
            "flex": null,
            "flex_flow": null,
            "grid_area": null,
            "grid_auto_columns": null,
            "grid_auto_flow": null,
            "grid_auto_rows": null,
            "grid_column": null,
            "grid_gap": null,
            "grid_row": null,
            "grid_template_areas": null,
            "grid_template_columns": null,
            "grid_template_rows": null,
            "height": null,
            "justify_content": null,
            "justify_items": null,
            "left": null,
            "margin": null,
            "max_height": null,
            "max_width": null,
            "min_height": null,
            "min_width": null,
            "object_fit": null,
            "object_position": null,
            "order": null,
            "overflow": null,
            "overflow_x": null,
            "overflow_y": null,
            "padding": null,
            "right": null,
            "top": null,
            "visibility": null,
            "width": null
          }
        },
        "8af58c4197554959b3cfabaf54e81218": {
          "model_module": "@jupyter-widgets/controls",
          "model_name": "DescriptionStyleModel",
          "model_module_version": "1.5.0",
          "state": {
            "_model_module": "@jupyter-widgets/controls",
            "_model_module_version": "1.5.0",
            "_model_name": "DescriptionStyleModel",
            "_view_count": null,
            "_view_module": "@jupyter-widgets/base",
            "_view_module_version": "1.2.0",
            "_view_name": "StyleView",
            "description_width": ""
          }
        },
        "5bb5ac2875b34fe3ac948f6c68cf7e26": {
          "model_module": "@jupyter-widgets/base",
          "model_name": "LayoutModel",
          "model_module_version": "1.2.0",
          "state": {
            "_model_module": "@jupyter-widgets/base",
            "_model_module_version": "1.2.0",
            "_model_name": "LayoutModel",
            "_view_count": null,
            "_view_module": "@jupyter-widgets/base",
            "_view_module_version": "1.2.0",
            "_view_name": "LayoutView",
            "align_content": null,
            "align_items": null,
            "align_self": null,
            "border": null,
            "bottom": null,
            "display": null,
            "flex": null,
            "flex_flow": null,
            "grid_area": null,
            "grid_auto_columns": null,
            "grid_auto_flow": null,
            "grid_auto_rows": null,
            "grid_column": null,
            "grid_gap": null,
            "grid_row": null,
            "grid_template_areas": null,
            "grid_template_columns": null,
            "grid_template_rows": null,
            "height": null,
            "justify_content": null,
            "justify_items": null,
            "left": null,
            "margin": null,
            "max_height": null,
            "max_width": null,
            "min_height": null,
            "min_width": null,
            "object_fit": null,
            "object_position": null,
            "order": null,
            "overflow": null,
            "overflow_x": null,
            "overflow_y": null,
            "padding": null,
            "right": null,
            "top": null,
            "visibility": null,
            "width": null
          }
        },
        "ac46ab3972b54a0e964e7674233c8ca2": {
          "model_module": "@jupyter-widgets/controls",
          "model_name": "ProgressStyleModel",
          "model_module_version": "1.5.0",
          "state": {
            "_model_module": "@jupyter-widgets/controls",
            "_model_module_version": "1.5.0",
            "_model_name": "ProgressStyleModel",
            "_view_count": null,
            "_view_module": "@jupyter-widgets/base",
            "_view_module_version": "1.2.0",
            "_view_name": "StyleView",
            "bar_color": null,
            "description_width": ""
          }
        },
        "7e08cfb90af34db4acfee9e6fb094701": {
          "model_module": "@jupyter-widgets/controls",
          "model_name": "VBoxModel",
          "model_module_version": "1.5.0",
          "state": {
            "_dom_classes": [],
            "_model_module": "@jupyter-widgets/controls",
            "_model_module_version": "1.5.0",
            "_model_name": "VBoxModel",
            "_view_count": null,
            "_view_module": "@jupyter-widgets/controls",
            "_view_module_version": "1.5.0",
            "_view_name": "VBoxView",
            "box_style": "",
            "children": [
              "IPY_MODEL_cd586b254bc143f1b724a4d5779349ad",
              "IPY_MODEL_0f28da999ea7424d8fe9fc2e840da0de"
            ],
            "layout": "IPY_MODEL_41c80b68e6ff4d06878c534fcf7dc3b0"
          }
        },
        "cd586b254bc143f1b724a4d5779349ad": {
          "model_module": "@jupyter-widgets/controls",
          "model_name": "LabelModel",
          "model_module_version": "1.5.0",
          "state": {
            "_dom_classes": [],
            "_model_module": "@jupyter-widgets/controls",
            "_model_module_version": "1.5.0",
            "_model_name": "LabelModel",
            "_view_count": null,
            "_view_module": "@jupyter-widgets/controls",
            "_view_module_version": "1.5.0",
            "_view_name": "LabelView",
            "description": "",
            "description_tooltip": null,
            "layout": "IPY_MODEL_f531354dc94e462e8dfd269e5955f765",
            "placeholder": "​",
            "style": "IPY_MODEL_18cfa45c210d40ae9f4c0ef6034d250e",
            "value": "352.803 MB of 352.803 MB uploaded (0.000 MB deduped)\r"
          }
        },
        "0f28da999ea7424d8fe9fc2e840da0de": {
          "model_module": "@jupyter-widgets/controls",
          "model_name": "FloatProgressModel",
          "model_module_version": "1.5.0",
          "state": {
            "_dom_classes": [],
            "_model_module": "@jupyter-widgets/controls",
            "_model_module_version": "1.5.0",
            "_model_name": "FloatProgressModel",
            "_view_count": null,
            "_view_module": "@jupyter-widgets/controls",
            "_view_module_version": "1.5.0",
            "_view_name": "ProgressView",
            "bar_style": "",
            "description": "",
            "description_tooltip": null,
            "layout": "IPY_MODEL_2dfe0839d77a4106a25c611ecc7dfb96",
            "max": 1,
            "min": 0,
            "orientation": "horizontal",
            "style": "IPY_MODEL_bbe77a385efb4052bd80a568e5ceb561",
            "value": 1
          }
        },
        "41c80b68e6ff4d06878c534fcf7dc3b0": {
          "model_module": "@jupyter-widgets/base",
          "model_name": "LayoutModel",
          "model_module_version": "1.2.0",
          "state": {
            "_model_module": "@jupyter-widgets/base",
            "_model_module_version": "1.2.0",
            "_model_name": "LayoutModel",
            "_view_count": null,
            "_view_module": "@jupyter-widgets/base",
            "_view_module_version": "1.2.0",
            "_view_name": "LayoutView",
            "align_content": null,
            "align_items": null,
            "align_self": null,
            "border": null,
            "bottom": null,
            "display": null,
            "flex": null,
            "flex_flow": null,
            "grid_area": null,
            "grid_auto_columns": null,
            "grid_auto_flow": null,
            "grid_auto_rows": null,
            "grid_column": null,
            "grid_gap": null,
            "grid_row": null,
            "grid_template_areas": null,
            "grid_template_columns": null,
            "grid_template_rows": null,
            "height": null,
            "justify_content": null,
            "justify_items": null,
            "left": null,
            "margin": null,
            "max_height": null,
            "max_width": null,
            "min_height": null,
            "min_width": null,
            "object_fit": null,
            "object_position": null,
            "order": null,
            "overflow": null,
            "overflow_x": null,
            "overflow_y": null,
            "padding": null,
            "right": null,
            "top": null,
            "visibility": null,
            "width": null
          }
        },
        "f531354dc94e462e8dfd269e5955f765": {
          "model_module": "@jupyter-widgets/base",
          "model_name": "LayoutModel",
          "model_module_version": "1.2.0",
          "state": {
            "_model_module": "@jupyter-widgets/base",
            "_model_module_version": "1.2.0",
            "_model_name": "LayoutModel",
            "_view_count": null,
            "_view_module": "@jupyter-widgets/base",
            "_view_module_version": "1.2.0",
            "_view_name": "LayoutView",
            "align_content": null,
            "align_items": null,
            "align_self": null,
            "border": null,
            "bottom": null,
            "display": null,
            "flex": null,
            "flex_flow": null,
            "grid_area": null,
            "grid_auto_columns": null,
            "grid_auto_flow": null,
            "grid_auto_rows": null,
            "grid_column": null,
            "grid_gap": null,
            "grid_row": null,
            "grid_template_areas": null,
            "grid_template_columns": null,
            "grid_template_rows": null,
            "height": null,
            "justify_content": null,
            "justify_items": null,
            "left": null,
            "margin": null,
            "max_height": null,
            "max_width": null,
            "min_height": null,
            "min_width": null,
            "object_fit": null,
            "object_position": null,
            "order": null,
            "overflow": null,
            "overflow_x": null,
            "overflow_y": null,
            "padding": null,
            "right": null,
            "top": null,
            "visibility": null,
            "width": null
          }
        },
        "18cfa45c210d40ae9f4c0ef6034d250e": {
          "model_module": "@jupyter-widgets/controls",
          "model_name": "DescriptionStyleModel",
          "model_module_version": "1.5.0",
          "state": {
            "_model_module": "@jupyter-widgets/controls",
            "_model_module_version": "1.5.0",
            "_model_name": "DescriptionStyleModel",
            "_view_count": null,
            "_view_module": "@jupyter-widgets/base",
            "_view_module_version": "1.2.0",
            "_view_name": "StyleView",
            "description_width": ""
          }
        },
        "2dfe0839d77a4106a25c611ecc7dfb96": {
          "model_module": "@jupyter-widgets/base",
          "model_name": "LayoutModel",
          "model_module_version": "1.2.0",
          "state": {
            "_model_module": "@jupyter-widgets/base",
            "_model_module_version": "1.2.0",
            "_model_name": "LayoutModel",
            "_view_count": null,
            "_view_module": "@jupyter-widgets/base",
            "_view_module_version": "1.2.0",
            "_view_name": "LayoutView",
            "align_content": null,
            "align_items": null,
            "align_self": null,
            "border": null,
            "bottom": null,
            "display": null,
            "flex": null,
            "flex_flow": null,
            "grid_area": null,
            "grid_auto_columns": null,
            "grid_auto_flow": null,
            "grid_auto_rows": null,
            "grid_column": null,
            "grid_gap": null,
            "grid_row": null,
            "grid_template_areas": null,
            "grid_template_columns": null,
            "grid_template_rows": null,
            "height": null,
            "justify_content": null,
            "justify_items": null,
            "left": null,
            "margin": null,
            "max_height": null,
            "max_width": null,
            "min_height": null,
            "min_width": null,
            "object_fit": null,
            "object_position": null,
            "order": null,
            "overflow": null,
            "overflow_x": null,
            "overflow_y": null,
            "padding": null,
            "right": null,
            "top": null,
            "visibility": null,
            "width": null
          }
        },
        "bbe77a385efb4052bd80a568e5ceb561": {
          "model_module": "@jupyter-widgets/controls",
          "model_name": "ProgressStyleModel",
          "model_module_version": "1.5.0",
          "state": {
            "_model_module": "@jupyter-widgets/controls",
            "_model_module_version": "1.5.0",
            "_model_name": "ProgressStyleModel",
            "_view_count": null,
            "_view_module": "@jupyter-widgets/base",
            "_view_module_version": "1.2.0",
            "_view_name": "StyleView",
            "bar_color": null,
            "description_width": ""
          }
        },
        "49b135991e2b470282f9f8b537b02e6f": {
          "model_module": "@jupyter-widgets/controls",
          "model_name": "VBoxModel",
          "model_module_version": "1.5.0",
          "state": {
            "_dom_classes": [],
            "_model_module": "@jupyter-widgets/controls",
            "_model_module_version": "1.5.0",
            "_model_name": "VBoxModel",
            "_view_count": null,
            "_view_module": "@jupyter-widgets/controls",
            "_view_module_version": "1.5.0",
            "_view_name": "VBoxView",
            "box_style": "",
            "children": [
              "IPY_MODEL_142979481fe9460389209bd605a1a53d",
              "IPY_MODEL_3b09949cc51a41669f085d6ba9bfb8ab"
            ],
            "layout": "IPY_MODEL_8056aa61f972401cb582803044b79db6"
          }
        },
        "142979481fe9460389209bd605a1a53d": {
          "model_module": "@jupyter-widgets/controls",
          "model_name": "LabelModel",
          "model_module_version": "1.5.0",
          "state": {
            "_dom_classes": [],
            "_model_module": "@jupyter-widgets/controls",
            "_model_module_version": "1.5.0",
            "_model_name": "LabelModel",
            "_view_count": null,
            "_view_module": "@jupyter-widgets/controls",
            "_view_module_version": "1.5.0",
            "_view_name": "LabelView",
            "description": "",
            "description_tooltip": null,
            "layout": "IPY_MODEL_7c4adaafd180447a89db32baa9468e04",
            "placeholder": "​",
            "style": "IPY_MODEL_0929fbd7e164410591cb353e42d3878a",
            "value": "352.814 MB of 352.814 MB uploaded (0.000 MB deduped)\r"
          }
        },
        "3b09949cc51a41669f085d6ba9bfb8ab": {
          "model_module": "@jupyter-widgets/controls",
          "model_name": "FloatProgressModel",
          "model_module_version": "1.5.0",
          "state": {
            "_dom_classes": [],
            "_model_module": "@jupyter-widgets/controls",
            "_model_module_version": "1.5.0",
            "_model_name": "FloatProgressModel",
            "_view_count": null,
            "_view_module": "@jupyter-widgets/controls",
            "_view_module_version": "1.5.0",
            "_view_name": "ProgressView",
            "bar_style": "",
            "description": "",
            "description_tooltip": null,
            "layout": "IPY_MODEL_5e89cb1ebc084dd781a1e7127a15bf27",
            "max": 1,
            "min": 0,
            "orientation": "horizontal",
            "style": "IPY_MODEL_a08a47b4b3d944e7bf3166957d877d8e",
            "value": 1
          }
        },
        "8056aa61f972401cb582803044b79db6": {
          "model_module": "@jupyter-widgets/base",
          "model_name": "LayoutModel",
          "model_module_version": "1.2.0",
          "state": {
            "_model_module": "@jupyter-widgets/base",
            "_model_module_version": "1.2.0",
            "_model_name": "LayoutModel",
            "_view_count": null,
            "_view_module": "@jupyter-widgets/base",
            "_view_module_version": "1.2.0",
            "_view_name": "LayoutView",
            "align_content": null,
            "align_items": null,
            "align_self": null,
            "border": null,
            "bottom": null,
            "display": null,
            "flex": null,
            "flex_flow": null,
            "grid_area": null,
            "grid_auto_columns": null,
            "grid_auto_flow": null,
            "grid_auto_rows": null,
            "grid_column": null,
            "grid_gap": null,
            "grid_row": null,
            "grid_template_areas": null,
            "grid_template_columns": null,
            "grid_template_rows": null,
            "height": null,
            "justify_content": null,
            "justify_items": null,
            "left": null,
            "margin": null,
            "max_height": null,
            "max_width": null,
            "min_height": null,
            "min_width": null,
            "object_fit": null,
            "object_position": null,
            "order": null,
            "overflow": null,
            "overflow_x": null,
            "overflow_y": null,
            "padding": null,
            "right": null,
            "top": null,
            "visibility": null,
            "width": null
          }
        },
        "7c4adaafd180447a89db32baa9468e04": {
          "model_module": "@jupyter-widgets/base",
          "model_name": "LayoutModel",
          "model_module_version": "1.2.0",
          "state": {
            "_model_module": "@jupyter-widgets/base",
            "_model_module_version": "1.2.0",
            "_model_name": "LayoutModel",
            "_view_count": null,
            "_view_module": "@jupyter-widgets/base",
            "_view_module_version": "1.2.0",
            "_view_name": "LayoutView",
            "align_content": null,
            "align_items": null,
            "align_self": null,
            "border": null,
            "bottom": null,
            "display": null,
            "flex": null,
            "flex_flow": null,
            "grid_area": null,
            "grid_auto_columns": null,
            "grid_auto_flow": null,
            "grid_auto_rows": null,
            "grid_column": null,
            "grid_gap": null,
            "grid_row": null,
            "grid_template_areas": null,
            "grid_template_columns": null,
            "grid_template_rows": null,
            "height": null,
            "justify_content": null,
            "justify_items": null,
            "left": null,
            "margin": null,
            "max_height": null,
            "max_width": null,
            "min_height": null,
            "min_width": null,
            "object_fit": null,
            "object_position": null,
            "order": null,
            "overflow": null,
            "overflow_x": null,
            "overflow_y": null,
            "padding": null,
            "right": null,
            "top": null,
            "visibility": null,
            "width": null
          }
        },
        "0929fbd7e164410591cb353e42d3878a": {
          "model_module": "@jupyter-widgets/controls",
          "model_name": "DescriptionStyleModel",
          "model_module_version": "1.5.0",
          "state": {
            "_model_module": "@jupyter-widgets/controls",
            "_model_module_version": "1.5.0",
            "_model_name": "DescriptionStyleModel",
            "_view_count": null,
            "_view_module": "@jupyter-widgets/base",
            "_view_module_version": "1.2.0",
            "_view_name": "StyleView",
            "description_width": ""
          }
        },
        "5e89cb1ebc084dd781a1e7127a15bf27": {
          "model_module": "@jupyter-widgets/base",
          "model_name": "LayoutModel",
          "model_module_version": "1.2.0",
          "state": {
            "_model_module": "@jupyter-widgets/base",
            "_model_module_version": "1.2.0",
            "_model_name": "LayoutModel",
            "_view_count": null,
            "_view_module": "@jupyter-widgets/base",
            "_view_module_version": "1.2.0",
            "_view_name": "LayoutView",
            "align_content": null,
            "align_items": null,
            "align_self": null,
            "border": null,
            "bottom": null,
            "display": null,
            "flex": null,
            "flex_flow": null,
            "grid_area": null,
            "grid_auto_columns": null,
            "grid_auto_flow": null,
            "grid_auto_rows": null,
            "grid_column": null,
            "grid_gap": null,
            "grid_row": null,
            "grid_template_areas": null,
            "grid_template_columns": null,
            "grid_template_rows": null,
            "height": null,
            "justify_content": null,
            "justify_items": null,
            "left": null,
            "margin": null,
            "max_height": null,
            "max_width": null,
            "min_height": null,
            "min_width": null,
            "object_fit": null,
            "object_position": null,
            "order": null,
            "overflow": null,
            "overflow_x": null,
            "overflow_y": null,
            "padding": null,
            "right": null,
            "top": null,
            "visibility": null,
            "width": null
          }
        },
        "a08a47b4b3d944e7bf3166957d877d8e": {
          "model_module": "@jupyter-widgets/controls",
          "model_name": "ProgressStyleModel",
          "model_module_version": "1.5.0",
          "state": {
            "_model_module": "@jupyter-widgets/controls",
            "_model_module_version": "1.5.0",
            "_model_name": "ProgressStyleModel",
            "_view_count": null,
            "_view_module": "@jupyter-widgets/base",
            "_view_module_version": "1.2.0",
            "_view_name": "StyleView",
            "bar_color": null,
            "description_width": ""
          }
        },
        "657057676d4b4fc99fb0d8d0d0e84962": {
          "model_module": "@jupyter-widgets/controls",
          "model_name": "VBoxModel",
          "model_module_version": "1.5.0",
          "state": {
            "_dom_classes": [],
            "_model_module": "@jupyter-widgets/controls",
            "_model_module_version": "1.5.0",
            "_model_name": "VBoxModel",
            "_view_count": null,
            "_view_module": "@jupyter-widgets/controls",
            "_view_module_version": "1.5.0",
            "_view_name": "VBoxView",
            "box_style": "",
            "children": [
              "IPY_MODEL_2db1e09c24d2431098f1843ba985f722",
              "IPY_MODEL_782a7bc8dd1c4fc8babdb195d200e236"
            ],
            "layout": "IPY_MODEL_c81a036f28114f1db5574d26c8b37e85"
          }
        },
        "2db1e09c24d2431098f1843ba985f722": {
          "model_module": "@jupyter-widgets/controls",
          "model_name": "LabelModel",
          "model_module_version": "1.5.0",
          "state": {
            "_dom_classes": [],
            "_model_module": "@jupyter-widgets/controls",
            "_model_module_version": "1.5.0",
            "_model_name": "LabelModel",
            "_view_count": null,
            "_view_module": "@jupyter-widgets/controls",
            "_view_module_version": "1.5.0",
            "_view_name": "LabelView",
            "description": "",
            "description_tooltip": null,
            "layout": "IPY_MODEL_6316e19f273e40da91d6d5b4d4aa9669",
            "placeholder": "​",
            "style": "IPY_MODEL_c0e4f49d41a54029bf7433255762239e",
            "value": "352.824 MB of 352.824 MB uploaded (0.000 MB deduped)\r"
          }
        },
        "782a7bc8dd1c4fc8babdb195d200e236": {
          "model_module": "@jupyter-widgets/controls",
          "model_name": "FloatProgressModel",
          "model_module_version": "1.5.0",
          "state": {
            "_dom_classes": [],
            "_model_module": "@jupyter-widgets/controls",
            "_model_module_version": "1.5.0",
            "_model_name": "FloatProgressModel",
            "_view_count": null,
            "_view_module": "@jupyter-widgets/controls",
            "_view_module_version": "1.5.0",
            "_view_name": "ProgressView",
            "bar_style": "",
            "description": "",
            "description_tooltip": null,
            "layout": "IPY_MODEL_1d25ea86110745a7baacc07b32124444",
            "max": 1,
            "min": 0,
            "orientation": "horizontal",
            "style": "IPY_MODEL_06d0a9e0fcf647739fa59eb1596384e5",
            "value": 1
          }
        },
        "c81a036f28114f1db5574d26c8b37e85": {
          "model_module": "@jupyter-widgets/base",
          "model_name": "LayoutModel",
          "model_module_version": "1.2.0",
          "state": {
            "_model_module": "@jupyter-widgets/base",
            "_model_module_version": "1.2.0",
            "_model_name": "LayoutModel",
            "_view_count": null,
            "_view_module": "@jupyter-widgets/base",
            "_view_module_version": "1.2.0",
            "_view_name": "LayoutView",
            "align_content": null,
            "align_items": null,
            "align_self": null,
            "border": null,
            "bottom": null,
            "display": null,
            "flex": null,
            "flex_flow": null,
            "grid_area": null,
            "grid_auto_columns": null,
            "grid_auto_flow": null,
            "grid_auto_rows": null,
            "grid_column": null,
            "grid_gap": null,
            "grid_row": null,
            "grid_template_areas": null,
            "grid_template_columns": null,
            "grid_template_rows": null,
            "height": null,
            "justify_content": null,
            "justify_items": null,
            "left": null,
            "margin": null,
            "max_height": null,
            "max_width": null,
            "min_height": null,
            "min_width": null,
            "object_fit": null,
            "object_position": null,
            "order": null,
            "overflow": null,
            "overflow_x": null,
            "overflow_y": null,
            "padding": null,
            "right": null,
            "top": null,
            "visibility": null,
            "width": null
          }
        },
        "6316e19f273e40da91d6d5b4d4aa9669": {
          "model_module": "@jupyter-widgets/base",
          "model_name": "LayoutModel",
          "model_module_version": "1.2.0",
          "state": {
            "_model_module": "@jupyter-widgets/base",
            "_model_module_version": "1.2.0",
            "_model_name": "LayoutModel",
            "_view_count": null,
            "_view_module": "@jupyter-widgets/base",
            "_view_module_version": "1.2.0",
            "_view_name": "LayoutView",
            "align_content": null,
            "align_items": null,
            "align_self": null,
            "border": null,
            "bottom": null,
            "display": null,
            "flex": null,
            "flex_flow": null,
            "grid_area": null,
            "grid_auto_columns": null,
            "grid_auto_flow": null,
            "grid_auto_rows": null,
            "grid_column": null,
            "grid_gap": null,
            "grid_row": null,
            "grid_template_areas": null,
            "grid_template_columns": null,
            "grid_template_rows": null,
            "height": null,
            "justify_content": null,
            "justify_items": null,
            "left": null,
            "margin": null,
            "max_height": null,
            "max_width": null,
            "min_height": null,
            "min_width": null,
            "object_fit": null,
            "object_position": null,
            "order": null,
            "overflow": null,
            "overflow_x": null,
            "overflow_y": null,
            "padding": null,
            "right": null,
            "top": null,
            "visibility": null,
            "width": null
          }
        },
        "c0e4f49d41a54029bf7433255762239e": {
          "model_module": "@jupyter-widgets/controls",
          "model_name": "DescriptionStyleModel",
          "model_module_version": "1.5.0",
          "state": {
            "_model_module": "@jupyter-widgets/controls",
            "_model_module_version": "1.5.0",
            "_model_name": "DescriptionStyleModel",
            "_view_count": null,
            "_view_module": "@jupyter-widgets/base",
            "_view_module_version": "1.2.0",
            "_view_name": "StyleView",
            "description_width": ""
          }
        },
        "1d25ea86110745a7baacc07b32124444": {
          "model_module": "@jupyter-widgets/base",
          "model_name": "LayoutModel",
          "model_module_version": "1.2.0",
          "state": {
            "_model_module": "@jupyter-widgets/base",
            "_model_module_version": "1.2.0",
            "_model_name": "LayoutModel",
            "_view_count": null,
            "_view_module": "@jupyter-widgets/base",
            "_view_module_version": "1.2.0",
            "_view_name": "LayoutView",
            "align_content": null,
            "align_items": null,
            "align_self": null,
            "border": null,
            "bottom": null,
            "display": null,
            "flex": null,
            "flex_flow": null,
            "grid_area": null,
            "grid_auto_columns": null,
            "grid_auto_flow": null,
            "grid_auto_rows": null,
            "grid_column": null,
            "grid_gap": null,
            "grid_row": null,
            "grid_template_areas": null,
            "grid_template_columns": null,
            "grid_template_rows": null,
            "height": null,
            "justify_content": null,
            "justify_items": null,
            "left": null,
            "margin": null,
            "max_height": null,
            "max_width": null,
            "min_height": null,
            "min_width": null,
            "object_fit": null,
            "object_position": null,
            "order": null,
            "overflow": null,
            "overflow_x": null,
            "overflow_y": null,
            "padding": null,
            "right": null,
            "top": null,
            "visibility": null,
            "width": null
          }
        },
        "06d0a9e0fcf647739fa59eb1596384e5": {
          "model_module": "@jupyter-widgets/controls",
          "model_name": "ProgressStyleModel",
          "model_module_version": "1.5.0",
          "state": {
            "_model_module": "@jupyter-widgets/controls",
            "_model_module_version": "1.5.0",
            "_model_name": "ProgressStyleModel",
            "_view_count": null,
            "_view_module": "@jupyter-widgets/base",
            "_view_module_version": "1.2.0",
            "_view_name": "StyleView",
            "bar_color": null,
            "description_width": ""
          }
        },
        "ae69f10aba3f4aea8184de1db0ae6914": {
          "model_module": "@jupyter-widgets/controls",
          "model_name": "VBoxModel",
          "model_module_version": "1.5.0",
          "state": {
            "_dom_classes": [],
            "_model_module": "@jupyter-widgets/controls",
            "_model_module_version": "1.5.0",
            "_model_name": "VBoxModel",
            "_view_count": null,
            "_view_module": "@jupyter-widgets/controls",
            "_view_module_version": "1.5.0",
            "_view_name": "VBoxView",
            "box_style": "",
            "children": [
              "IPY_MODEL_b54fde9047fc42d4b775cfc606ec65b4",
              "IPY_MODEL_f6d70b50cfd14ad9a9e010df0ff37742"
            ],
            "layout": "IPY_MODEL_ef478785615b4d258e2d0fe8337890b8"
          }
        },
        "b54fde9047fc42d4b775cfc606ec65b4": {
          "model_module": "@jupyter-widgets/controls",
          "model_name": "LabelModel",
          "model_module_version": "1.5.0",
          "state": {
            "_dom_classes": [],
            "_model_module": "@jupyter-widgets/controls",
            "_model_module_version": "1.5.0",
            "_model_name": "LabelModel",
            "_view_count": null,
            "_view_module": "@jupyter-widgets/controls",
            "_view_module_version": "1.5.0",
            "_view_name": "LabelView",
            "description": "",
            "description_tooltip": null,
            "layout": "IPY_MODEL_d32df96376b247389fe15f43ab88c77b",
            "placeholder": "​",
            "style": "IPY_MODEL_ae0deb480e73454b9592142a344fe80b",
            "value": "352.835 MB of 352.835 MB uploaded (0.000 MB deduped)\r"
          }
        },
        "f6d70b50cfd14ad9a9e010df0ff37742": {
          "model_module": "@jupyter-widgets/controls",
          "model_name": "FloatProgressModel",
          "model_module_version": "1.5.0",
          "state": {
            "_dom_classes": [],
            "_model_module": "@jupyter-widgets/controls",
            "_model_module_version": "1.5.0",
            "_model_name": "FloatProgressModel",
            "_view_count": null,
            "_view_module": "@jupyter-widgets/controls",
            "_view_module_version": "1.5.0",
            "_view_name": "ProgressView",
            "bar_style": "",
            "description": "",
            "description_tooltip": null,
            "layout": "IPY_MODEL_85b69a515ddb4d43b78b3ea86737cbc2",
            "max": 1,
            "min": 0,
            "orientation": "horizontal",
            "style": "IPY_MODEL_ebd411f85ac84f8e97d8a48a3f9e62f7",
            "value": 1
          }
        },
        "ef478785615b4d258e2d0fe8337890b8": {
          "model_module": "@jupyter-widgets/base",
          "model_name": "LayoutModel",
          "model_module_version": "1.2.0",
          "state": {
            "_model_module": "@jupyter-widgets/base",
            "_model_module_version": "1.2.0",
            "_model_name": "LayoutModel",
            "_view_count": null,
            "_view_module": "@jupyter-widgets/base",
            "_view_module_version": "1.2.0",
            "_view_name": "LayoutView",
            "align_content": null,
            "align_items": null,
            "align_self": null,
            "border": null,
            "bottom": null,
            "display": null,
            "flex": null,
            "flex_flow": null,
            "grid_area": null,
            "grid_auto_columns": null,
            "grid_auto_flow": null,
            "grid_auto_rows": null,
            "grid_column": null,
            "grid_gap": null,
            "grid_row": null,
            "grid_template_areas": null,
            "grid_template_columns": null,
            "grid_template_rows": null,
            "height": null,
            "justify_content": null,
            "justify_items": null,
            "left": null,
            "margin": null,
            "max_height": null,
            "max_width": null,
            "min_height": null,
            "min_width": null,
            "object_fit": null,
            "object_position": null,
            "order": null,
            "overflow": null,
            "overflow_x": null,
            "overflow_y": null,
            "padding": null,
            "right": null,
            "top": null,
            "visibility": null,
            "width": null
          }
        },
        "d32df96376b247389fe15f43ab88c77b": {
          "model_module": "@jupyter-widgets/base",
          "model_name": "LayoutModel",
          "model_module_version": "1.2.0",
          "state": {
            "_model_module": "@jupyter-widgets/base",
            "_model_module_version": "1.2.0",
            "_model_name": "LayoutModel",
            "_view_count": null,
            "_view_module": "@jupyter-widgets/base",
            "_view_module_version": "1.2.0",
            "_view_name": "LayoutView",
            "align_content": null,
            "align_items": null,
            "align_self": null,
            "border": null,
            "bottom": null,
            "display": null,
            "flex": null,
            "flex_flow": null,
            "grid_area": null,
            "grid_auto_columns": null,
            "grid_auto_flow": null,
            "grid_auto_rows": null,
            "grid_column": null,
            "grid_gap": null,
            "grid_row": null,
            "grid_template_areas": null,
            "grid_template_columns": null,
            "grid_template_rows": null,
            "height": null,
            "justify_content": null,
            "justify_items": null,
            "left": null,
            "margin": null,
            "max_height": null,
            "max_width": null,
            "min_height": null,
            "min_width": null,
            "object_fit": null,
            "object_position": null,
            "order": null,
            "overflow": null,
            "overflow_x": null,
            "overflow_y": null,
            "padding": null,
            "right": null,
            "top": null,
            "visibility": null,
            "width": null
          }
        },
        "ae0deb480e73454b9592142a344fe80b": {
          "model_module": "@jupyter-widgets/controls",
          "model_name": "DescriptionStyleModel",
          "model_module_version": "1.5.0",
          "state": {
            "_model_module": "@jupyter-widgets/controls",
            "_model_module_version": "1.5.0",
            "_model_name": "DescriptionStyleModel",
            "_view_count": null,
            "_view_module": "@jupyter-widgets/base",
            "_view_module_version": "1.2.0",
            "_view_name": "StyleView",
            "description_width": ""
          }
        },
        "85b69a515ddb4d43b78b3ea86737cbc2": {
          "model_module": "@jupyter-widgets/base",
          "model_name": "LayoutModel",
          "model_module_version": "1.2.0",
          "state": {
            "_model_module": "@jupyter-widgets/base",
            "_model_module_version": "1.2.0",
            "_model_name": "LayoutModel",
            "_view_count": null,
            "_view_module": "@jupyter-widgets/base",
            "_view_module_version": "1.2.0",
            "_view_name": "LayoutView",
            "align_content": null,
            "align_items": null,
            "align_self": null,
            "border": null,
            "bottom": null,
            "display": null,
            "flex": null,
            "flex_flow": null,
            "grid_area": null,
            "grid_auto_columns": null,
            "grid_auto_flow": null,
            "grid_auto_rows": null,
            "grid_column": null,
            "grid_gap": null,
            "grid_row": null,
            "grid_template_areas": null,
            "grid_template_columns": null,
            "grid_template_rows": null,
            "height": null,
            "justify_content": null,
            "justify_items": null,
            "left": null,
            "margin": null,
            "max_height": null,
            "max_width": null,
            "min_height": null,
            "min_width": null,
            "object_fit": null,
            "object_position": null,
            "order": null,
            "overflow": null,
            "overflow_x": null,
            "overflow_y": null,
            "padding": null,
            "right": null,
            "top": null,
            "visibility": null,
            "width": null
          }
        },
        "ebd411f85ac84f8e97d8a48a3f9e62f7": {
          "model_module": "@jupyter-widgets/controls",
          "model_name": "ProgressStyleModel",
          "model_module_version": "1.5.0",
          "state": {
            "_model_module": "@jupyter-widgets/controls",
            "_model_module_version": "1.5.0",
            "_model_name": "ProgressStyleModel",
            "_view_count": null,
            "_view_module": "@jupyter-widgets/base",
            "_view_module_version": "1.2.0",
            "_view_name": "StyleView",
            "bar_color": null,
            "description_width": ""
          }
        },
        "329e7a075f9a4c00bb6aa2ffb0760c1f": {
          "model_module": "@jupyter-widgets/controls",
          "model_name": "VBoxModel",
          "model_module_version": "1.5.0",
          "state": {
            "_dom_classes": [],
            "_model_module": "@jupyter-widgets/controls",
            "_model_module_version": "1.5.0",
            "_model_name": "VBoxModel",
            "_view_count": null,
            "_view_module": "@jupyter-widgets/controls",
            "_view_module_version": "1.5.0",
            "_view_name": "VBoxView",
            "box_style": "",
            "children": [
              "IPY_MODEL_6db33c65fcfb44f2adca7cd30c047b37",
              "IPY_MODEL_dfd0f6829a92404db727a559e191291b"
            ],
            "layout": "IPY_MODEL_017409b077a943ad9fe8cc26d1a98d18"
          }
        },
        "6db33c65fcfb44f2adca7cd30c047b37": {
          "model_module": "@jupyter-widgets/controls",
          "model_name": "LabelModel",
          "model_module_version": "1.5.0",
          "state": {
            "_dom_classes": [],
            "_model_module": "@jupyter-widgets/controls",
            "_model_module_version": "1.5.0",
            "_model_name": "LabelModel",
            "_view_count": null,
            "_view_module": "@jupyter-widgets/controls",
            "_view_module_version": "1.5.0",
            "_view_name": "LabelView",
            "description": "",
            "description_tooltip": null,
            "layout": "IPY_MODEL_a6a29cf513f14cd98db3320c19ccfb8b",
            "placeholder": "​",
            "style": "IPY_MODEL_2476d495b3e14129a55b101c148959b9",
            "value": "352.846 MB of 352.846 MB uploaded (0.000 MB deduped)\r"
          }
        },
        "dfd0f6829a92404db727a559e191291b": {
          "model_module": "@jupyter-widgets/controls",
          "model_name": "FloatProgressModel",
          "model_module_version": "1.5.0",
          "state": {
            "_dom_classes": [],
            "_model_module": "@jupyter-widgets/controls",
            "_model_module_version": "1.5.0",
            "_model_name": "FloatProgressModel",
            "_view_count": null,
            "_view_module": "@jupyter-widgets/controls",
            "_view_module_version": "1.5.0",
            "_view_name": "ProgressView",
            "bar_style": "",
            "description": "",
            "description_tooltip": null,
            "layout": "IPY_MODEL_6192a45a8e70401fae8b1a7ef703736b",
            "max": 1,
            "min": 0,
            "orientation": "horizontal",
            "style": "IPY_MODEL_416b996d4192482e96628e03aec69814",
            "value": 1
          }
        },
        "017409b077a943ad9fe8cc26d1a98d18": {
          "model_module": "@jupyter-widgets/base",
          "model_name": "LayoutModel",
          "model_module_version": "1.2.0",
          "state": {
            "_model_module": "@jupyter-widgets/base",
            "_model_module_version": "1.2.0",
            "_model_name": "LayoutModel",
            "_view_count": null,
            "_view_module": "@jupyter-widgets/base",
            "_view_module_version": "1.2.0",
            "_view_name": "LayoutView",
            "align_content": null,
            "align_items": null,
            "align_self": null,
            "border": null,
            "bottom": null,
            "display": null,
            "flex": null,
            "flex_flow": null,
            "grid_area": null,
            "grid_auto_columns": null,
            "grid_auto_flow": null,
            "grid_auto_rows": null,
            "grid_column": null,
            "grid_gap": null,
            "grid_row": null,
            "grid_template_areas": null,
            "grid_template_columns": null,
            "grid_template_rows": null,
            "height": null,
            "justify_content": null,
            "justify_items": null,
            "left": null,
            "margin": null,
            "max_height": null,
            "max_width": null,
            "min_height": null,
            "min_width": null,
            "object_fit": null,
            "object_position": null,
            "order": null,
            "overflow": null,
            "overflow_x": null,
            "overflow_y": null,
            "padding": null,
            "right": null,
            "top": null,
            "visibility": null,
            "width": null
          }
        },
        "a6a29cf513f14cd98db3320c19ccfb8b": {
          "model_module": "@jupyter-widgets/base",
          "model_name": "LayoutModel",
          "model_module_version": "1.2.0",
          "state": {
            "_model_module": "@jupyter-widgets/base",
            "_model_module_version": "1.2.0",
            "_model_name": "LayoutModel",
            "_view_count": null,
            "_view_module": "@jupyter-widgets/base",
            "_view_module_version": "1.2.0",
            "_view_name": "LayoutView",
            "align_content": null,
            "align_items": null,
            "align_self": null,
            "border": null,
            "bottom": null,
            "display": null,
            "flex": null,
            "flex_flow": null,
            "grid_area": null,
            "grid_auto_columns": null,
            "grid_auto_flow": null,
            "grid_auto_rows": null,
            "grid_column": null,
            "grid_gap": null,
            "grid_row": null,
            "grid_template_areas": null,
            "grid_template_columns": null,
            "grid_template_rows": null,
            "height": null,
            "justify_content": null,
            "justify_items": null,
            "left": null,
            "margin": null,
            "max_height": null,
            "max_width": null,
            "min_height": null,
            "min_width": null,
            "object_fit": null,
            "object_position": null,
            "order": null,
            "overflow": null,
            "overflow_x": null,
            "overflow_y": null,
            "padding": null,
            "right": null,
            "top": null,
            "visibility": null,
            "width": null
          }
        },
        "2476d495b3e14129a55b101c148959b9": {
          "model_module": "@jupyter-widgets/controls",
          "model_name": "DescriptionStyleModel",
          "model_module_version": "1.5.0",
          "state": {
            "_model_module": "@jupyter-widgets/controls",
            "_model_module_version": "1.5.0",
            "_model_name": "DescriptionStyleModel",
            "_view_count": null,
            "_view_module": "@jupyter-widgets/base",
            "_view_module_version": "1.2.0",
            "_view_name": "StyleView",
            "description_width": ""
          }
        },
        "6192a45a8e70401fae8b1a7ef703736b": {
          "model_module": "@jupyter-widgets/base",
          "model_name": "LayoutModel",
          "model_module_version": "1.2.0",
          "state": {
            "_model_module": "@jupyter-widgets/base",
            "_model_module_version": "1.2.0",
            "_model_name": "LayoutModel",
            "_view_count": null,
            "_view_module": "@jupyter-widgets/base",
            "_view_module_version": "1.2.0",
            "_view_name": "LayoutView",
            "align_content": null,
            "align_items": null,
            "align_self": null,
            "border": null,
            "bottom": null,
            "display": null,
            "flex": null,
            "flex_flow": null,
            "grid_area": null,
            "grid_auto_columns": null,
            "grid_auto_flow": null,
            "grid_auto_rows": null,
            "grid_column": null,
            "grid_gap": null,
            "grid_row": null,
            "grid_template_areas": null,
            "grid_template_columns": null,
            "grid_template_rows": null,
            "height": null,
            "justify_content": null,
            "justify_items": null,
            "left": null,
            "margin": null,
            "max_height": null,
            "max_width": null,
            "min_height": null,
            "min_width": null,
            "object_fit": null,
            "object_position": null,
            "order": null,
            "overflow": null,
            "overflow_x": null,
            "overflow_y": null,
            "padding": null,
            "right": null,
            "top": null,
            "visibility": null,
            "width": null
          }
        },
        "416b996d4192482e96628e03aec69814": {
          "model_module": "@jupyter-widgets/controls",
          "model_name": "ProgressStyleModel",
          "model_module_version": "1.5.0",
          "state": {
            "_model_module": "@jupyter-widgets/controls",
            "_model_module_version": "1.5.0",
            "_model_name": "ProgressStyleModel",
            "_view_count": null,
            "_view_module": "@jupyter-widgets/base",
            "_view_module_version": "1.2.0",
            "_view_name": "StyleView",
            "bar_color": null,
            "description_width": ""
          }
        }
      }
    }
  },
  "cells": [
    {
      "cell_type": "code",
      "source": [
        "#importing the dataset to be worked on = inaturalist dataset\n",
        "\n",
        "%%capture\n",
        "!curl -SL https://storage.googleapis.com/wandb_datasets/nature_12K.zip > nature_12K.zip\n",
        "!unzip nature_12K.zip\n",
        "\n",
        "train_dir='inaturalist_12K/train/'  #specifying the train and test data as per available in the dataset.\n",
        "test_dir='inaturalist_12K/val/'\n",
        "\n",
        "#specifying the classes as present in the iNaturalist dataset\n",
        " \n",
        "categories=['Amphibia','Animalia','Arachnida','Aves','Fungi','Insecta','Mammalia','Mollusca','Plantae','Reptilia']\n",
        "\n",
        "#so as we can see there are 10 classes in the inaturalist dataset."
      ],
      "metadata": {
        "id": "dzl4QfjDwspD"
      },
      "execution_count": null,
      "outputs": []
    },
    {
      "cell_type": "code",
      "metadata": {
        "id": "zN6WvKauHCsk"
      },
      "source": [
        "!pip install wandb"
      ],
      "execution_count": null,
      "outputs": []
    },
    {
      "cell_type": "code",
      "source": [
        "#importing the libraries required\n",
        "import numpy as np\n",
        "import pandas as pd\n",
        "import os\n",
        "import keras\n",
        "import tensorflow as tf\n",
        "from tensorflow.keras import layers,models\n",
        "from tensorflow.keras.layers import Conv2D, MaxPooling2D, Dropout, Dense, Flatten, Activation , BatchNormalization\n",
        "\n",
        "#importing ImageDataGenarator for data augmentation \n",
        "from tensorflow.keras.preprocessing.image import ImageDataGenerator\n",
        "import matplotlib.pyplot as plt\n",
        "import cv2"
      ],
      "metadata": {
        "id": "PaWd9ZVWwyqY"
      },
      "execution_count": null,
      "outputs": []
    },
    {
      "cell_type": "code",
      "source": [
        "# importing the wandb dependencies. uncomment when using wandb\n",
        "\n",
        "import wandb\n",
        "from wandb.keras import WandbCallback"
      ],
      "metadata": {
        "id": "YwaYKBpPw58W"
      },
      "execution_count": null,
      "outputs": []
    },
    {
      "cell_type": "code",
      "metadata": {
        "id": "UX5ynRejyZvc"
      },
      "source": [
        "#importing the pretrained models from keras\n",
        "\n",
        "from tensorflow.keras.applications.resnet50 import ResNet50 \n",
        "from keras.applications.vgg16 import VGG16\n",
        "from keras.applications.xception import Xception \n",
        "from keras.applications.inception_v3 import InceptionV3 \n",
        "from keras.applications.inception_resnet_v2 import InceptionResNetV2\n"
      ],
      "execution_count": 3,
      "outputs": []
    },
    {
      "cell_type": "code",
      "metadata": {
        "id": "0vS7KdPEzPVq"
      },
      "source": [
        "# sweep. \n",
        "#run this cell when using wandb for sweep\n",
        "\n",
        "sweep_config = {\n",
        "  \"name\": \"Bayesian Sweep\",\n",
        "  \"method\": \"bayes\",\n",
        "  \"metric\":{\n",
        "  \"name\": \"val_accuracy\",\n",
        "  \"goal\": \"maximize\"\n",
        "  },\n",
        "  'early_terminate': {\n",
        "        'type':'hyperband',\n",
        "        'min_iter': [3],\n",
        "        's': [2]\n",
        "  },\n",
        "  \"parameters\": {\n",
        "                    \n",
        "\n",
        "        \"base_model\": {\n",
        "            \"values\": [ \"XCPTN\", \"IV3\", \"RN50\", \"IRV2\"]\n",
        "        },\n",
        "        \"epochs\": {\n",
        "            \"values\": [ 5, 10, 3]\n",
        "        }, \n",
        "        \"dense_neurons\": {\n",
        "            \"values\": [ 128, 256]\n",
        "        },\n",
        "        \"batch_size\": {\n",
        "            \"values\": [ 16, 32]\n",
        "        },\n",
        "        \"optimizer\": {\n",
        "            \"values\": [ \"adam\",\"nadam\",\"rmsprop\"]\n",
        "        } \n",
        "              \n",
        "    }\n",
        "}\n",
        "\n",
        "\n",
        "#this configuration gives the best validation accuracy\n",
        "\n",
        "config_defaults={\n",
        "    'fc_size':128,\n",
        "    'batchnorm':'yes',\n",
        "    'augmentation':'yes',\n",
        "    'droprate':0.4,\n",
        "    'pre_train':'inceptionresnetv2'\n",
        "}"
      ],
      "execution_count": 5,
      "outputs": []
    },
    {
      "cell_type": "code",
      "metadata": {
        "id": "SsElcmRUBU3v"
      },
      "source": [
        "# defining the function for pretraining\n",
        "\n",
        "def PreTrain():\n",
        "\n",
        "  #initializing the wandb sweeps for combinations\n",
        "  #uncomment it when to enable sweeps\n",
        "\n",
        "  wandb.init(config=config_defaults)\n",
        "  configs=wandb.config\n",
        "\n",
        "  #initializing the sweeps with defaults set\n",
        "  configs=config_defaults\n",
        "\n",
        "  batchnorm=configs['batchnorm']\n",
        "  augmentation=configs['augmentation']\n",
        "  fc_size=configs['fc_size']\n",
        "  droprate=configs['droprate']\n",
        "  pre_train = configs['pre_train']\n",
        "\n",
        "  #wandb.run.name='model_'+pre_train+'_fc_2_size_'+str(fc_size)+'_droprate_'+str(droprate)+ str('_bn_' if batchnorm=='yes' else '') +str('augment' if augmentation=='yes' else '')\n",
        "\n",
        "  #setting up a flexible pretrained model \n",
        "  #assigning the weights already available as imagenet\n",
        "  #the input image size as height*width*channels\n",
        "\n",
        "  #the include_top part when we speify it as false, we chose not to include the fully connected layers and have more freedom on how to work with the model with a given possibility to retrain the weights of the model.\n",
        "\n",
        "  if pre_train == 'inceptionv3':\n",
        "    img_height = 299\n",
        "    img_width = 299\n",
        "    base_model = InceptionV3(include_top=False, weights='imagenet',input_shape=(img_height, img_width,3))\n",
        "\n",
        "  if pre_train == 'inceptionresnetv2':\n",
        "    img_height = 299\n",
        "    img_width = 299\n",
        "    base_model = InceptionResNetV2(include_top=False, weights='imagenet',input_shape=(img_height, img_width,3))\n",
        "\n",
        "  if pre_train == 'resnet50':\n",
        "    img_height = 224\n",
        "    img_width = 224\n",
        "    base_model = ResNet50(include_top=False, weights='imagenet',input_shape=(img_height, img_width,3))\n",
        "\n",
        "  if pre_train == 'Xception':\n",
        "    img_height = 299\n",
        "    img_width = 299\n",
        "    base_model = Xception(include_top=False, weights='imagenet',input_shape=(img_height, img_width,3))  \n",
        "\n",
        "\n",
        "  for layers in base_model.layers:\n",
        "    layers.trainable = False\n",
        "\n",
        "  #setting up the flatten layer\n",
        "\n",
        "  model = keras.Sequential([\n",
        "      tf.keras.Input(shape=(img_height, img_width,3,)),\n",
        "      base_model,\n",
        "      Flatten(),\n",
        "      Dense(fc_size,activation='relu'),\n",
        "      \n",
        "  ])\n",
        "\n",
        "  #adding batch normalization\n",
        "  if batchnorm == 'yes':\n",
        "    model.add(BatchNormalization())\n",
        "  \n",
        "  #adding parameters to the model\n",
        "  model.add(Dropout(droprate))\n",
        "  model.add(Dense(fc_size, activation='relu'))\n",
        "  model.add(Dropout(droprate))\n",
        "\n",
        "  #adding the last layer with 10 classes and activation function as softmax\n",
        "  \n",
        "  model.add(Dense(10 ,activation='softmax'))\n",
        "  \n",
        "\n",
        "  #data generators for train(with and without validation) and validation\n",
        "  augment= ImageDataGenerator(\n",
        "    rotation_range=30,\n",
        "    width_shift_range=0.2,\n",
        "    height_shift_range=0.2,\n",
        "    zoom_range=0.2,\n",
        "    horizontal_flip=True,\n",
        "    rescale=1.0 / 255,\n",
        "    validation_split=0.1,\n",
        "    dtype=tf.float32,\n",
        "  )\n",
        "\n",
        "  datagen = ImageDataGenerator(\n",
        "    rescale=1.0 / 255,\n",
        "    validation_split=0.1,\n",
        "    dtype=tf.float32,\n",
        "  )\n",
        "\n",
        "  train_set = datagen.flow_from_directory(\n",
        "    train_dir,\n",
        "    target_size=(img_height, img_width),\n",
        "    batch_size=32,\n",
        "    color_mode='rgb',\n",
        "    class_mode='sparse',\n",
        "    shuffle=True,\n",
        "    subset='training',\n",
        "    seed=123,\n",
        "  )\n",
        "\n",
        "  aug_set = augment.flow_from_directory(\n",
        "      train_dir,\n",
        "      target_size=(img_height, img_width),\n",
        "      batch_size=32,\n",
        "      color_mode='rgb',\n",
        "      class_mode='sparse',\n",
        "      shuffle=True,\n",
        "      subset='training',\n",
        "      seed=123,\n",
        "  )\n",
        "\n",
        "  val_set = datagen.flow_from_directory(\n",
        "      train_dir,\n",
        "      target_size=(img_height, img_width),\n",
        "      color_mode='rgb',\n",
        "      class_mode='sparse',\n",
        "      shuffle=True,\n",
        "      subset='validation',\n",
        "      seed=123,\n",
        "  )\n",
        " #compiling the whole model with parameters and associating the losses in the model as cross entropy\n",
        " \n",
        "  model.compile(\n",
        "    optimizer=tf.keras.optimizers.Adam(),\n",
        "    loss=[tf.keras.losses.SparseCategoricalCrossentropy()],\n",
        "    metrics=['accuracy'],\n",
        "  )\n",
        "\n",
        "  #making the model flexible for augmentation\n",
        "  # giving the callback for data plot as wandb\n",
        "  if augmentation =='no' :\n",
        "    hist=model.fit(train_set,epochs=2,validation_data=val_set,callbacks=[WandbCallback()]) \n",
        "    hist=model.fit(train_set,epochs=2,validation_data=val_set)\n",
        "  \n",
        "  else:\n",
        "    hist=model.fit(aug_set,epochs=2,validation_data=val_set,callbacks=[WandbCallback()])\n",
        "    hist=model.fit(aug_set,epochs=2,validation_data=val_set)\n",
        "\n",
        "  #defining the validation accuracy\n",
        "  val_acc=max(hist.history['val_accuracy'])\n",
        "  params={'batch_norm':batchnorm,'augmentation':augmentation,'dropout':droprate,'pre_trained_model':pre_train,'val_acc':val_acc}\n",
        "  #wandb.log(params)\n",
        "  "
      ],
      "execution_count": 7,
      "outputs": []
    },
    {
      "cell_type": "code",
      "source": [
        "!wandb login"
      ],
      "metadata": {
        "colab": {
          "base_uri": "https://localhost:8080/"
        },
        "id": "z65zy4-nV6KQ",
        "outputId": "e9da147c-c2fb-448d-a944-02f633159da2"
      },
      "execution_count": null,
      "outputs": [
        {
          "output_type": "stream",
          "name": "stdout",
          "text": [
            "\u001b[34m\u001b[1mwandb\u001b[0m: You can find your API key in your browser here: https://wandb.ai/authorize\n",
            "\u001b[34m\u001b[1mwandb\u001b[0m: Paste an API key from your profile and hit enter, or press ctrl+c to quit: \n",
            "\u001b[34m\u001b[1mwandb\u001b[0m: Appending key for api.wandb.ai to your netrc file: /root/.netrc\n"
          ]
        }
      ]
    },
    {
      "cell_type": "code",
      "metadata": {
        "colab": {
          "base_uri": "https://localhost:8080/",
          "height": 1000,
          "referenced_widgets": [
            "efa1f56ed915439aba32bf1a9e5b673d",
            "929767dcdb274005a19fe59b20d74578",
            "23159c46847e49f28e0860ef1411ab77",
            "bc47d7429b5b4a5aa517b0159a7477ca",
            "ecd7798032804a7ca219c0ff56c26e56",
            "a89c0b20b5174f46994bb3b97c781f5f",
            "8394deee75574315a91cd0be7fae91ae",
            "ebce6fafcf374e66bf5fe9db8e261794",
            "8f0cff447e314c3080d33286adee3aca",
            "41b873d32479455995db0d2abb97d0d2",
            "e9a75203a7b3476a84811656193d5f46",
            "f49d0eca3431432196e2a996b6ee6d58",
            "e0af6d425d90412db357b9abb4c8bda4",
            "8af58c4197554959b3cfabaf54e81218",
            "5bb5ac2875b34fe3ac948f6c68cf7e26",
            "ac46ab3972b54a0e964e7674233c8ca2",
            "7e08cfb90af34db4acfee9e6fb094701",
            "cd586b254bc143f1b724a4d5779349ad",
            "0f28da999ea7424d8fe9fc2e840da0de",
            "41c80b68e6ff4d06878c534fcf7dc3b0",
            "f531354dc94e462e8dfd269e5955f765",
            "18cfa45c210d40ae9f4c0ef6034d250e",
            "2dfe0839d77a4106a25c611ecc7dfb96",
            "bbe77a385efb4052bd80a568e5ceb561",
            "49b135991e2b470282f9f8b537b02e6f",
            "142979481fe9460389209bd605a1a53d",
            "3b09949cc51a41669f085d6ba9bfb8ab",
            "8056aa61f972401cb582803044b79db6",
            "7c4adaafd180447a89db32baa9468e04",
            "0929fbd7e164410591cb353e42d3878a",
            "5e89cb1ebc084dd781a1e7127a15bf27",
            "a08a47b4b3d944e7bf3166957d877d8e",
            "657057676d4b4fc99fb0d8d0d0e84962",
            "2db1e09c24d2431098f1843ba985f722",
            "782a7bc8dd1c4fc8babdb195d200e236",
            "c81a036f28114f1db5574d26c8b37e85",
            "6316e19f273e40da91d6d5b4d4aa9669",
            "c0e4f49d41a54029bf7433255762239e",
            "1d25ea86110745a7baacc07b32124444",
            "06d0a9e0fcf647739fa59eb1596384e5",
            "ae69f10aba3f4aea8184de1db0ae6914",
            "b54fde9047fc42d4b775cfc606ec65b4",
            "f6d70b50cfd14ad9a9e010df0ff37742",
            "ef478785615b4d258e2d0fe8337890b8",
            "d32df96376b247389fe15f43ab88c77b",
            "ae0deb480e73454b9592142a344fe80b",
            "85b69a515ddb4d43b78b3ea86737cbc2",
            "ebd411f85ac84f8e97d8a48a3f9e62f7",
            "329e7a075f9a4c00bb6aa2ffb0760c1f",
            "6db33c65fcfb44f2adca7cd30c047b37",
            "dfd0f6829a92404db727a559e191291b",
            "017409b077a943ad9fe8cc26d1a98d18",
            "a6a29cf513f14cd98db3320c19ccfb8b",
            "2476d495b3e14129a55b101c148959b9",
            "6192a45a8e70401fae8b1a7ef703736b",
            "416b996d4192482e96628e03aec69814"
          ]
        },
        "id": "u3vt5VfOBUua",
        "outputId": "ab292f19-064c-48fc-9d38-334ff2805fb1"
      },
      "source": [
        "#wandb sweep\n",
        "#Ignore this and proceed\n",
        "sweep_id=wandb.sweep(sweep_config,project=\"a-2\", entity=\"dl22\")\n",
        "wandb.agent(sweep_id, PreTrain)   "
      ],
      "execution_count": null,
      "outputs": [
        {
          "output_type": "stream",
          "name": "stderr",
          "text": [
            "\u001b[34m\u001b[1mwandb\u001b[0m: \u001b[33mWARNING\u001b[0m Malformed sweep config detected! This may cause your sweep to behave in unexpected ways.\n",
            "\u001b[34m\u001b[1mwandb\u001b[0m: \u001b[33mWARNING\u001b[0m To avoid this, please fix the sweep config schema violations below:\n",
            "\u001b[34m\u001b[1mwandb\u001b[0m: \u001b[33mWARNING\u001b[0m   Violation 1. {'s': [2], 'type': 'hyperband', 'min_iter': [3]} is not valid under any of the given schemas\n"
          ]
        },
        {
          "output_type": "stream",
          "name": "stdout",
          "text": [
            "Create sweep with ID: hixpo6a6\n",
            "Sweep URL: https://wandb.ai/dl22/a-2/sweeps/hixpo6a6\n"
          ]
        },
        {
          "output_type": "stream",
          "name": "stderr",
          "text": [
            "\u001b[34m\u001b[1mwandb\u001b[0m: Agent Starting Run: z4gnaoz9 with config:\n",
            "\u001b[34m\u001b[1mwandb\u001b[0m: \tbase_model: IV3\n",
            "\u001b[34m\u001b[1mwandb\u001b[0m: \tbatch_size: 16\n",
            "\u001b[34m\u001b[1mwandb\u001b[0m: \tdense_neurons: 128\n",
            "\u001b[34m\u001b[1mwandb\u001b[0m: \tepochs: 5\n",
            "\u001b[34m\u001b[1mwandb\u001b[0m: \toptimizer: adam\n",
            "\u001b[34m\u001b[1mwandb\u001b[0m: Currently logged in as: \u001b[33mdl22\u001b[0m (use `wandb login --relogin` to force relogin)\n"
          ]
        },
        {
          "output_type": "display_data",
          "data": {
            "text/plain": [
              "<IPython.core.display.HTML object>"
            ],
            "text/html": [
              "Tracking run with wandb version 0.12.11"
            ]
          },
          "metadata": {}
        },
        {
          "output_type": "display_data",
          "data": {
            "text/plain": [
              "<IPython.core.display.HTML object>"
            ],
            "text/html": [
              "Run data is saved locally in <code>/content/wandb/run-20220403_100853-z4gnaoz9</code>"
            ]
          },
          "metadata": {}
        },
        {
          "output_type": "display_data",
          "data": {
            "text/plain": [
              "<IPython.core.display.HTML object>"
            ],
            "text/html": [
              "Syncing run <strong><a href=\"https://wandb.ai/dl22/a-2/runs/z4gnaoz9\" target=\"_blank\">mild-sweep-1</a></strong> to <a href=\"https://wandb.ai/dl22/a-2\" target=\"_blank\">Weights & Biases</a> (<a href=\"https://wandb.me/run\" target=\"_blank\">docs</a>)<br/>Sweep page:  <a href=\"https://wandb.ai/dl22/a-2/sweeps/hixpo6a6\" target=\"_blank\">https://wandb.ai/dl22/a-2/sweeps/hixpo6a6</a>"
            ]
          },
          "metadata": {}
        },
        {
          "output_type": "stream",
          "name": "stdout",
          "text": [
            "Downloading data from https://storage.googleapis.com/tensorflow/keras-applications/inception_resnet_v2/inception_resnet_v2_weights_tf_dim_ordering_tf_kernels_notop.h5\n",
            "219062272/219055592 [==============================] - 2s 0us/step\n",
            "219070464/219055592 [==============================] - 2s 0us/step\n",
            "Found 9000 images belonging to 10 classes.\n",
            "Found 9000 images belonging to 10 classes.\n",
            "Found 999 images belonging to 10 classes.\n",
            "Epoch 1/2\n",
            "282/282 [==============================] - 413s 1s/step - loss: 1.3366 - accuracy: 0.5821 - val_loss: 0.6756 - val_accuracy: 0.7968 - _timestamp: 1648980965.0000 - _runtime: 431.0000\n",
            "Epoch 2/2\n",
            "282/282 [==============================] - 382s 1s/step - loss: 0.9208 - accuracy: 0.7123 - val_loss: 0.5747 - val_accuracy: 0.8238 - _timestamp: 1648981347.0000 - _runtime: 813.0000\n",
            "Epoch 1/2\n",
            "282/282 [==============================] - 370s 1s/step - loss: 0.8272 - accuracy: 0.7407 - val_loss: 0.5588 - val_accuracy: 0.8298\n",
            "Epoch 2/2\n",
            "282/282 [==============================] - 370s 1s/step - loss: 0.7882 - accuracy: 0.7546 - val_loss: 0.6044 - val_accuracy: 0.8078\n",
            "\n"
          ]
        },
        {
          "output_type": "display_data",
          "data": {
            "text/plain": [
              "<IPython.core.display.HTML object>"
            ],
            "text/html": [
              "Waiting for W&B process to finish... <strong style=\"color:green\">(success).</strong>"
            ]
          },
          "metadata": {}
        },
        {
          "output_type": "display_data",
          "data": {
            "text/plain": [
              "VBox(children=(Label(value='48.517 MB of 48.517 MB uploaded (0.000 MB deduped)\\r'), FloatProgress(value=1.0, m…"
            ],
            "application/vnd.jupyter.widget-view+json": {
              "version_major": 2,
              "version_minor": 0,
              "model_id": "efa1f56ed915439aba32bf1a9e5b673d"
            }
          },
          "metadata": {}
        },
        {
          "output_type": "display_data",
          "data": {
            "text/plain": [
              "<IPython.core.display.HTML object>"
            ],
            "text/html": [
              "<style>\n",
              "    table.wandb td:nth-child(1) { padding: 0 10px; text-align: right }\n",
              "    .wandb-row { display: flex; flex-direction: row; flex-wrap: wrap; width: 100% }\n",
              "    .wandb-col { display: flex; flex-direction: column; flex-basis: 100%; flex: 1; padding: 10px; }\n",
              "    </style>\n",
              "<div class=\"wandb-row\"><div class=\"wandb-col\"><h3>Run history:</h3><br/><table class=\"wandb\"><tr><td>accuracy</td><td>▁█</td></tr><tr><td>dropout</td><td>▁</td></tr><tr><td>epoch</td><td>▁█</td></tr><tr><td>loss</td><td>█▁</td></tr><tr><td>val_acc</td><td>▁</td></tr><tr><td>val_accuracy</td><td>▁█</td></tr><tr><td>val_loss</td><td>█▁</td></tr></table><br/></div><div class=\"wandb-col\"><h3>Run summary:</h3><br/><table class=\"wandb\"><tr><td>accuracy</td><td>0.71233</td></tr><tr><td>augmentation</td><td>yes</td></tr><tr><td>batch_norm</td><td>yes</td></tr><tr><td>best_epoch</td><td>1</td></tr><tr><td>best_val_loss</td><td>0.57467</td></tr><tr><td>dropout</td><td>0.4</td></tr><tr><td>epoch</td><td>1</td></tr><tr><td>loss</td><td>0.92082</td></tr><tr><td>pre_trained_model</td><td>inceptionresnetv2</td></tr><tr><td>val_acc</td><td>0.82983</td></tr><tr><td>val_accuracy</td><td>0.82382</td></tr><tr><td>val_loss</td><td>0.57467</td></tr></table><br/></div></div>"
            ]
          },
          "metadata": {}
        },
        {
          "output_type": "display_data",
          "data": {
            "text/plain": [
              "<IPython.core.display.HTML object>"
            ],
            "text/html": [
              "Synced <strong style=\"color:#cdcd00\">mild-sweep-1</strong>: <a href=\"https://wandb.ai/dl22/a-2/runs/z4gnaoz9\" target=\"_blank\">https://wandb.ai/dl22/a-2/runs/z4gnaoz9</a><br/>Synced 5 W&B file(s), 1 media file(s), 2 artifact file(s) and 2 other file(s)"
            ]
          },
          "metadata": {}
        },
        {
          "output_type": "display_data",
          "data": {
            "text/plain": [
              "<IPython.core.display.HTML object>"
            ],
            "text/html": [
              "Find logs at: <code>./wandb/run-20220403_100853-z4gnaoz9/logs</code>"
            ]
          },
          "metadata": {}
        },
        {
          "output_type": "stream",
          "name": "stderr",
          "text": [
            "\u001b[34m\u001b[1mwandb\u001b[0m: Agent Starting Run: ofw1r8ao with config:\n",
            "\u001b[34m\u001b[1mwandb\u001b[0m: \tbase_model: RN50\n",
            "\u001b[34m\u001b[1mwandb\u001b[0m: \tbatch_size: 32\n",
            "\u001b[34m\u001b[1mwandb\u001b[0m: \tdense_neurons: 256\n",
            "\u001b[34m\u001b[1mwandb\u001b[0m: \tepochs: 10\n",
            "\u001b[34m\u001b[1mwandb\u001b[0m: \toptimizer: rmsprop\n"
          ]
        },
        {
          "output_type": "display_data",
          "data": {
            "text/plain": [
              "<IPython.core.display.HTML object>"
            ],
            "text/html": [
              "Tracking run with wandb version 0.12.11"
            ]
          },
          "metadata": {}
        },
        {
          "output_type": "display_data",
          "data": {
            "text/plain": [
              "<IPython.core.display.HTML object>"
            ],
            "text/html": [
              "Run data is saved locally in <code>/content/wandb/run-20220403_103527-ofw1r8ao</code>"
            ]
          },
          "metadata": {}
        },
        {
          "output_type": "display_data",
          "data": {
            "text/plain": [
              "<IPython.core.display.HTML object>"
            ],
            "text/html": [
              "Syncing run <strong><a href=\"https://wandb.ai/dl22/a-2/runs/ofw1r8ao\" target=\"_blank\">blooming-sweep-2</a></strong> to <a href=\"https://wandb.ai/dl22/a-2\" target=\"_blank\">Weights & Biases</a> (<a href=\"https://wandb.me/run\" target=\"_blank\">docs</a>)<br/>Sweep page:  <a href=\"https://wandb.ai/dl22/a-2/sweeps/hixpo6a6\" target=\"_blank\">https://wandb.ai/dl22/a-2/sweeps/hixpo6a6</a>"
            ]
          },
          "metadata": {}
        },
        {
          "output_type": "stream",
          "name": "stdout",
          "text": [
            "Found 9000 images belonging to 10 classes.\n",
            "Found 9000 images belonging to 10 classes.\n",
            "Found 999 images belonging to 10 classes.\n",
            "Epoch 1/2\n",
            "282/282 [==============================] - 384s 1s/step - loss: 1.3006 - accuracy: 0.5930 - val_loss: 0.7065 - val_accuracy: 0.7928 - _timestamp: 1648982525.0000 - _runtime: 398.0000\n",
            "Epoch 2/2\n",
            "282/282 [==============================] - 365s 1s/step - loss: 0.9124 - accuracy: 0.7154 - val_loss: 0.5734 - val_accuracy: 0.8278 - _timestamp: 1648982890.0000 - _runtime: 763.0000\n",
            "Epoch 1/2\n",
            "282/282 [==============================] - 373s 1s/step - loss: 0.8302 - accuracy: 0.7433 - val_loss: 0.5992 - val_accuracy: 0.8238\n",
            "Epoch 2/2\n",
            "282/282 [==============================] - 370s 1s/step - loss: 0.7895 - accuracy: 0.7538 - val_loss: 0.5575 - val_accuracy: 0.8388\n",
            "\n"
          ]
        },
        {
          "output_type": "display_data",
          "data": {
            "text/plain": [
              "<IPython.core.display.HTML object>"
            ],
            "text/html": [
              "Waiting for W&B process to finish... <strong style=\"color:green\">(success).</strong>"
            ]
          },
          "metadata": {}
        },
        {
          "output_type": "display_data",
          "data": {
            "text/plain": [
              "VBox(children=(Label(value='50.662 MB of 50.662 MB uploaded (0.000 MB deduped)\\r'), FloatProgress(value=1.0, m…"
            ],
            "application/vnd.jupyter.widget-view+json": {
              "version_major": 2,
              "version_minor": 0,
              "model_id": "8f0cff447e314c3080d33286adee3aca"
            }
          },
          "metadata": {}
        },
        {
          "output_type": "display_data",
          "data": {
            "text/plain": [
              "<IPython.core.display.HTML object>"
            ],
            "text/html": [
              "<style>\n",
              "    table.wandb td:nth-child(1) { padding: 0 10px; text-align: right }\n",
              "    .wandb-row { display: flex; flex-direction: row; flex-wrap: wrap; width: 100% }\n",
              "    .wandb-col { display: flex; flex-direction: column; flex-basis: 100%; flex: 1; padding: 10px; }\n",
              "    </style>\n",
              "<div class=\"wandb-row\"><div class=\"wandb-col\"><h3>Run history:</h3><br/><table class=\"wandb\"><tr><td>accuracy</td><td>▁█</td></tr><tr><td>dropout</td><td>▁</td></tr><tr><td>epoch</td><td>▁█</td></tr><tr><td>loss</td><td>█▁</td></tr><tr><td>val_acc</td><td>▁</td></tr><tr><td>val_accuracy</td><td>▁█</td></tr><tr><td>val_loss</td><td>█▁</td></tr></table><br/></div><div class=\"wandb-col\"><h3>Run summary:</h3><br/><table class=\"wandb\"><tr><td>accuracy</td><td>0.71544</td></tr><tr><td>augmentation</td><td>yes</td></tr><tr><td>batch_norm</td><td>yes</td></tr><tr><td>best_epoch</td><td>1</td></tr><tr><td>best_val_loss</td><td>0.57344</td></tr><tr><td>dropout</td><td>0.4</td></tr><tr><td>epoch</td><td>1</td></tr><tr><td>loss</td><td>0.91244</td></tr><tr><td>pre_trained_model</td><td>inceptionresnetv2</td></tr><tr><td>val_acc</td><td>0.83884</td></tr><tr><td>val_accuracy</td><td>0.82783</td></tr><tr><td>val_loss</td><td>0.57344</td></tr></table><br/></div></div>"
            ]
          },
          "metadata": {}
        },
        {
          "output_type": "display_data",
          "data": {
            "text/plain": [
              "<IPython.core.display.HTML object>"
            ],
            "text/html": [
              "Synced <strong style=\"color:#cdcd00\">blooming-sweep-2</strong>: <a href=\"https://wandb.ai/dl22/a-2/runs/ofw1r8ao\" target=\"_blank\">https://wandb.ai/dl22/a-2/runs/ofw1r8ao</a><br/>Synced 5 W&B file(s), 1 media file(s), 2 artifact file(s) and 2 other file(s)"
            ]
          },
          "metadata": {}
        },
        {
          "output_type": "display_data",
          "data": {
            "text/plain": [
              "<IPython.core.display.HTML object>"
            ],
            "text/html": [
              "Find logs at: <code>./wandb/run-20220403_103527-ofw1r8ao/logs</code>"
            ]
          },
          "metadata": {}
        },
        {
          "output_type": "stream",
          "name": "stderr",
          "text": [
            "\u001b[34m\u001b[1mwandb\u001b[0m: Agent Starting Run: 3j0izug1 with config:\n",
            "\u001b[34m\u001b[1mwandb\u001b[0m: \tbase_model: RN50\n",
            "\u001b[34m\u001b[1mwandb\u001b[0m: \tbatch_size: 16\n",
            "\u001b[34m\u001b[1mwandb\u001b[0m: \tdense_neurons: 256\n",
            "\u001b[34m\u001b[1mwandb\u001b[0m: \tepochs: 10\n",
            "\u001b[34m\u001b[1mwandb\u001b[0m: \toptimizer: nadam\n"
          ]
        },
        {
          "output_type": "display_data",
          "data": {
            "text/plain": [
              "<IPython.core.display.HTML object>"
            ],
            "text/html": [
              "Tracking run with wandb version 0.12.11"
            ]
          },
          "metadata": {}
        },
        {
          "output_type": "display_data",
          "data": {
            "text/plain": [
              "<IPython.core.display.HTML object>"
            ],
            "text/html": [
              "Run data is saved locally in <code>/content/wandb/run-20220403_110130-3j0izug1</code>"
            ]
          },
          "metadata": {}
        },
        {
          "output_type": "display_data",
          "data": {
            "text/plain": [
              "<IPython.core.display.HTML object>"
            ],
            "text/html": [
              "Syncing run <strong><a href=\"https://wandb.ai/dl22/a-2/runs/3j0izug1\" target=\"_blank\">laced-sweep-3</a></strong> to <a href=\"https://wandb.ai/dl22/a-2\" target=\"_blank\">Weights & Biases</a> (<a href=\"https://wandb.me/run\" target=\"_blank\">docs</a>)<br/>Sweep page:  <a href=\"https://wandb.ai/dl22/a-2/sweeps/hixpo6a6\" target=\"_blank\">https://wandb.ai/dl22/a-2/sweeps/hixpo6a6</a>"
            ]
          },
          "metadata": {}
        },
        {
          "output_type": "stream",
          "name": "stdout",
          "text": [
            "Found 9000 images belonging to 10 classes.\n",
            "Found 9000 images belonging to 10 classes.\n",
            "Found 999 images belonging to 10 classes.\n",
            "Epoch 1/2\n",
            "282/282 [==============================] - 389s 1s/step - loss: 1.3308 - accuracy: 0.5832 - val_loss: 0.6399 - val_accuracy: 0.8128 - _timestamp: 1648984094.0000 - _runtime: 404.0000\n",
            "Epoch 2/2\n",
            "282/282 [==============================] - 373s 1s/step - loss: 0.9049 - accuracy: 0.7169 - val_loss: 0.5926 - val_accuracy: 0.8088 - _timestamp: 1648984467.0000 - _runtime: 777.0000\n",
            "Epoch 1/2\n",
            "282/282 [==============================] - 375s 1s/step - loss: 0.8075 - accuracy: 0.7437 - val_loss: 0.5441 - val_accuracy: 0.8328\n",
            "Epoch 2/2\n",
            "282/282 [==============================] - 372s 1s/step - loss: 0.7725 - accuracy: 0.7589 - val_loss: 0.5424 - val_accuracy: 0.8348\n",
            "\n"
          ]
        },
        {
          "output_type": "display_data",
          "data": {
            "text/plain": [
              "<IPython.core.display.HTML object>"
            ],
            "text/html": [
              "Waiting for W&B process to finish... <strong style=\"color:green\">(success).</strong>"
            ]
          },
          "metadata": {}
        },
        {
          "output_type": "display_data",
          "data": {
            "text/plain": [
              "VBox(children=(Label(value='50.832 MB of 50.832 MB uploaded (0.000 MB deduped)\\r'), FloatProgress(value=1.0, m…"
            ],
            "application/vnd.jupyter.widget-view+json": {
              "version_major": 2,
              "version_minor": 0,
              "model_id": "7e08cfb90af34db4acfee9e6fb094701"
            }
          },
          "metadata": {}
        },
        {
          "output_type": "display_data",
          "data": {
            "text/plain": [
              "<IPython.core.display.HTML object>"
            ],
            "text/html": [
              "<style>\n",
              "    table.wandb td:nth-child(1) { padding: 0 10px; text-align: right }\n",
              "    .wandb-row { display: flex; flex-direction: row; flex-wrap: wrap; width: 100% }\n",
              "    .wandb-col { display: flex; flex-direction: column; flex-basis: 100%; flex: 1; padding: 10px; }\n",
              "    </style>\n",
              "<div class=\"wandb-row\"><div class=\"wandb-col\"><h3>Run history:</h3><br/><table class=\"wandb\"><tr><td>accuracy</td><td>▁█</td></tr><tr><td>dropout</td><td>▁</td></tr><tr><td>epoch</td><td>▁█</td></tr><tr><td>loss</td><td>█▁</td></tr><tr><td>val_acc</td><td>▁</td></tr><tr><td>val_accuracy</td><td>█▁</td></tr><tr><td>val_loss</td><td>█▁</td></tr></table><br/></div><div class=\"wandb-col\"><h3>Run summary:</h3><br/><table class=\"wandb\"><tr><td>accuracy</td><td>0.71689</td></tr><tr><td>augmentation</td><td>yes</td></tr><tr><td>batch_norm</td><td>yes</td></tr><tr><td>best_epoch</td><td>1</td></tr><tr><td>best_val_loss</td><td>0.5926</td></tr><tr><td>dropout</td><td>0.4</td></tr><tr><td>epoch</td><td>1</td></tr><tr><td>loss</td><td>0.90485</td></tr><tr><td>pre_trained_model</td><td>inceptionresnetv2</td></tr><tr><td>val_acc</td><td>0.83483</td></tr><tr><td>val_accuracy</td><td>0.80881</td></tr><tr><td>val_loss</td><td>0.5926</td></tr></table><br/></div></div>"
            ]
          },
          "metadata": {}
        },
        {
          "output_type": "display_data",
          "data": {
            "text/plain": [
              "<IPython.core.display.HTML object>"
            ],
            "text/html": [
              "Synced <strong style=\"color:#cdcd00\">laced-sweep-3</strong>: <a href=\"https://wandb.ai/dl22/a-2/runs/3j0izug1\" target=\"_blank\">https://wandb.ai/dl22/a-2/runs/3j0izug1</a><br/>Synced 5 W&B file(s), 1 media file(s), 2 artifact file(s) and 2 other file(s)"
            ]
          },
          "metadata": {}
        },
        {
          "output_type": "display_data",
          "data": {
            "text/plain": [
              "<IPython.core.display.HTML object>"
            ],
            "text/html": [
              "Find logs at: <code>./wandb/run-20220403_110130-3j0izug1/logs</code>"
            ]
          },
          "metadata": {}
        },
        {
          "output_type": "stream",
          "name": "stderr",
          "text": [
            "\u001b[34m\u001b[1mwandb\u001b[0m: Agent Starting Run: yx6tllwp with config:\n",
            "\u001b[34m\u001b[1mwandb\u001b[0m: \tbase_model: IRV2\n",
            "\u001b[34m\u001b[1mwandb\u001b[0m: \tbatch_size: 32\n",
            "\u001b[34m\u001b[1mwandb\u001b[0m: \tdense_neurons: 128\n",
            "\u001b[34m\u001b[1mwandb\u001b[0m: \tepochs: 3\n",
            "\u001b[34m\u001b[1mwandb\u001b[0m: \toptimizer: rmsprop\n"
          ]
        },
        {
          "output_type": "display_data",
          "data": {
            "text/plain": [
              "<IPython.core.display.HTML object>"
            ],
            "text/html": [
              "Tracking run with wandb version 0.12.11"
            ]
          },
          "metadata": {}
        },
        {
          "output_type": "display_data",
          "data": {
            "text/plain": [
              "<IPython.core.display.HTML object>"
            ],
            "text/html": [
              "Run data is saved locally in <code>/content/wandb/run-20220403_112734-yx6tllwp</code>"
            ]
          },
          "metadata": {}
        },
        {
          "output_type": "display_data",
          "data": {
            "text/plain": [
              "<IPython.core.display.HTML object>"
            ],
            "text/html": [
              "Syncing run <strong><a href=\"https://wandb.ai/dl22/a-2/runs/yx6tllwp\" target=\"_blank\">swept-sweep-4</a></strong> to <a href=\"https://wandb.ai/dl22/a-2\" target=\"_blank\">Weights & Biases</a> (<a href=\"https://wandb.me/run\" target=\"_blank\">docs</a>)<br/>Sweep page:  <a href=\"https://wandb.ai/dl22/a-2/sweeps/hixpo6a6\" target=\"_blank\">https://wandb.ai/dl22/a-2/sweeps/hixpo6a6</a>"
            ]
          },
          "metadata": {}
        },
        {
          "output_type": "stream",
          "name": "stdout",
          "text": [
            "Found 9000 images belonging to 10 classes.\n",
            "Found 9000 images belonging to 10 classes.\n",
            "Found 999 images belonging to 10 classes.\n",
            "Epoch 1/2\n",
            "282/282 [==============================] - 394s 1s/step - loss: 1.3271 - accuracy: 0.5816 - val_loss: 0.6130 - val_accuracy: 0.8218 - _timestamp: 1648985662.0000 - _runtime: 408.0000\n",
            "Epoch 2/2\n",
            "282/282 [==============================] - 371s 1s/step - loss: 0.9040 - accuracy: 0.7218 - val_loss: 0.5752 - val_accuracy: 0.8158 - _timestamp: 1648986035.0000 - _runtime: 781.0000\n",
            "Epoch 1/2\n",
            "282/282 [==============================] - 371s 1s/step - loss: 0.8000 - accuracy: 0.7483 - val_loss: 0.6063 - val_accuracy: 0.8138\n",
            "Epoch 2/2\n",
            "282/282 [==============================] - 373s 1s/step - loss: 0.7628 - accuracy: 0.7576 - val_loss: 0.5408 - val_accuracy: 0.8358\n",
            "\n"
          ]
        },
        {
          "output_type": "display_data",
          "data": {
            "text/plain": [
              "<IPython.core.display.HTML object>"
            ],
            "text/html": [
              "Waiting for W&B process to finish... <strong style=\"color:green\">(success).</strong>"
            ]
          },
          "metadata": {}
        },
        {
          "output_type": "display_data",
          "data": {
            "text/plain": [
              "VBox(children=(Label(value='49.355 MB of 49.355 MB uploaded (0.000 MB deduped)\\r'), FloatProgress(value=1.0, m…"
            ],
            "application/vnd.jupyter.widget-view+json": {
              "version_major": 2,
              "version_minor": 0,
              "model_id": "49b135991e2b470282f9f8b537b02e6f"
            }
          },
          "metadata": {}
        },
        {
          "output_type": "display_data",
          "data": {
            "text/plain": [
              "<IPython.core.display.HTML object>"
            ],
            "text/html": [
              "<style>\n",
              "    table.wandb td:nth-child(1) { padding: 0 10px; text-align: right }\n",
              "    .wandb-row { display: flex; flex-direction: row; flex-wrap: wrap; width: 100% }\n",
              "    .wandb-col { display: flex; flex-direction: column; flex-basis: 100%; flex: 1; padding: 10px; }\n",
              "    </style>\n",
              "<div class=\"wandb-row\"><div class=\"wandb-col\"><h3>Run history:</h3><br/><table class=\"wandb\"><tr><td>accuracy</td><td>▁█</td></tr><tr><td>dropout</td><td>▁</td></tr><tr><td>epoch</td><td>▁█</td></tr><tr><td>loss</td><td>█▁</td></tr><tr><td>val_acc</td><td>▁</td></tr><tr><td>val_accuracy</td><td>█▁</td></tr><tr><td>val_loss</td><td>█▁</td></tr></table><br/></div><div class=\"wandb-col\"><h3>Run summary:</h3><br/><table class=\"wandb\"><tr><td>accuracy</td><td>0.72178</td></tr><tr><td>augmentation</td><td>yes</td></tr><tr><td>batch_norm</td><td>yes</td></tr><tr><td>best_epoch</td><td>1</td></tr><tr><td>best_val_loss</td><td>0.57516</td></tr><tr><td>dropout</td><td>0.4</td></tr><tr><td>epoch</td><td>1</td></tr><tr><td>loss</td><td>0.90404</td></tr><tr><td>pre_trained_model</td><td>inceptionresnetv2</td></tr><tr><td>val_acc</td><td>0.83584</td></tr><tr><td>val_accuracy</td><td>0.81582</td></tr><tr><td>val_loss</td><td>0.57516</td></tr></table><br/></div></div>"
            ]
          },
          "metadata": {}
        },
        {
          "output_type": "display_data",
          "data": {
            "text/plain": [
              "<IPython.core.display.HTML object>"
            ],
            "text/html": [
              "Synced <strong style=\"color:#cdcd00\">swept-sweep-4</strong>: <a href=\"https://wandb.ai/dl22/a-2/runs/yx6tllwp\" target=\"_blank\">https://wandb.ai/dl22/a-2/runs/yx6tllwp</a><br/>Synced 5 W&B file(s), 1 media file(s), 2 artifact file(s) and 2 other file(s)"
            ]
          },
          "metadata": {}
        },
        {
          "output_type": "display_data",
          "data": {
            "text/plain": [
              "<IPython.core.display.HTML object>"
            ],
            "text/html": [
              "Find logs at: <code>./wandb/run-20220403_112734-yx6tllwp/logs</code>"
            ]
          },
          "metadata": {}
        },
        {
          "output_type": "stream",
          "name": "stderr",
          "text": [
            "\u001b[34m\u001b[1mwandb\u001b[0m: Agent Starting Run: swwy4ltq with config:\n",
            "\u001b[34m\u001b[1mwandb\u001b[0m: \tbase_model: RN50\n",
            "\u001b[34m\u001b[1mwandb\u001b[0m: \tbatch_size: 16\n",
            "\u001b[34m\u001b[1mwandb\u001b[0m: \tdense_neurons: 256\n",
            "\u001b[34m\u001b[1mwandb\u001b[0m: \tepochs: 5\n",
            "\u001b[34m\u001b[1mwandb\u001b[0m: \toptimizer: adam\n"
          ]
        },
        {
          "output_type": "display_data",
          "data": {
            "text/plain": [
              "<IPython.core.display.HTML object>"
            ],
            "text/html": [
              "Tracking run with wandb version 0.12.11"
            ]
          },
          "metadata": {}
        },
        {
          "output_type": "display_data",
          "data": {
            "text/plain": [
              "<IPython.core.display.HTML object>"
            ],
            "text/html": [
              "Run data is saved locally in <code>/content/wandb/run-20220403_115335-swwy4ltq</code>"
            ]
          },
          "metadata": {}
        },
        {
          "output_type": "display_data",
          "data": {
            "text/plain": [
              "<IPython.core.display.HTML object>"
            ],
            "text/html": [
              "Syncing run <strong><a href=\"https://wandb.ai/dl22/a-2/runs/swwy4ltq\" target=\"_blank\">flowing-sweep-5</a></strong> to <a href=\"https://wandb.ai/dl22/a-2\" target=\"_blank\">Weights & Biases</a> (<a href=\"https://wandb.me/run\" target=\"_blank\">docs</a>)<br/>Sweep page:  <a href=\"https://wandb.ai/dl22/a-2/sweeps/hixpo6a6\" target=\"_blank\">https://wandb.ai/dl22/a-2/sweeps/hixpo6a6</a>"
            ]
          },
          "metadata": {}
        },
        {
          "output_type": "stream",
          "name": "stdout",
          "text": [
            "Found 9000 images belonging to 10 classes.\n",
            "Found 9000 images belonging to 10 classes.\n",
            "Found 999 images belonging to 10 classes.\n",
            "Epoch 1/2\n",
            "282/282 [==============================] - 396s 1s/step - loss: 1.3150 - accuracy: 0.5888 - val_loss: 0.6536 - val_accuracy: 0.7988 - _timestamp: 1648987225.0000 - _runtime: 410.0000\n",
            "Epoch 2/2\n",
            "282/282 [==============================] - 373s 1s/step - loss: 0.9037 - accuracy: 0.7222 - val_loss: 0.6164 - val_accuracy: 0.8178 - _timestamp: 1648987598.0000 - _runtime: 783.0000\n",
            "Epoch 1/2\n",
            "282/282 [==============================] - 372s 1s/step - loss: 0.7925 - accuracy: 0.7536 - val_loss: 0.5601 - val_accuracy: 0.8358\n",
            "Epoch 2/2\n",
            "282/282 [==============================] - 365s 1s/step - loss: 0.7788 - accuracy: 0.7564 - val_loss: 0.5539 - val_accuracy: 0.8308\n",
            "\n"
          ]
        },
        {
          "output_type": "display_data",
          "data": {
            "text/plain": [
              "<IPython.core.display.HTML object>"
            ],
            "text/html": [
              "Waiting for W&B process to finish... <strong style=\"color:green\">(success).</strong>"
            ]
          },
          "metadata": {}
        },
        {
          "output_type": "display_data",
          "data": {
            "text/plain": [
              "VBox(children=(Label(value='194.179 MB of 194.179 MB uploaded (0.000 MB deduped)\\r'), FloatProgress(value=1.0,…"
            ],
            "application/vnd.jupyter.widget-view+json": {
              "version_major": 2,
              "version_minor": 0,
              "model_id": "657057676d4b4fc99fb0d8d0d0e84962"
            }
          },
          "metadata": {}
        },
        {
          "output_type": "display_data",
          "data": {
            "text/plain": [
              "<IPython.core.display.HTML object>"
            ],
            "text/html": [
              "<style>\n",
              "    table.wandb td:nth-child(1) { padding: 0 10px; text-align: right }\n",
              "    .wandb-row { display: flex; flex-direction: row; flex-wrap: wrap; width: 100% }\n",
              "    .wandb-col { display: flex; flex-direction: column; flex-basis: 100%; flex: 1; padding: 10px; }\n",
              "    </style>\n",
              "<div class=\"wandb-row\"><div class=\"wandb-col\"><h3>Run history:</h3><br/><table class=\"wandb\"><tr><td>accuracy</td><td>▁█</td></tr><tr><td>dropout</td><td>▁</td></tr><tr><td>epoch</td><td>▁█</td></tr><tr><td>loss</td><td>█▁</td></tr><tr><td>val_acc</td><td>▁</td></tr><tr><td>val_accuracy</td><td>▁█</td></tr><tr><td>val_loss</td><td>█▁</td></tr></table><br/></div><div class=\"wandb-col\"><h3>Run summary:</h3><br/><table class=\"wandb\"><tr><td>accuracy</td><td>0.72222</td></tr><tr><td>augmentation</td><td>yes</td></tr><tr><td>batch_norm</td><td>yes</td></tr><tr><td>best_epoch</td><td>1</td></tr><tr><td>best_val_loss</td><td>0.61638</td></tr><tr><td>dropout</td><td>0.4</td></tr><tr><td>epoch</td><td>1</td></tr><tr><td>loss</td><td>0.90374</td></tr><tr><td>pre_trained_model</td><td>inceptionresnetv2</td></tr><tr><td>val_acc</td><td>0.83584</td></tr><tr><td>val_accuracy</td><td>0.81782</td></tr><tr><td>val_loss</td><td>0.61638</td></tr></table><br/></div></div>"
            ]
          },
          "metadata": {}
        },
        {
          "output_type": "display_data",
          "data": {
            "text/plain": [
              "<IPython.core.display.HTML object>"
            ],
            "text/html": [
              "Synced <strong style=\"color:#cdcd00\">flowing-sweep-5</strong>: <a href=\"https://wandb.ai/dl22/a-2/runs/swwy4ltq\" target=\"_blank\">https://wandb.ai/dl22/a-2/runs/swwy4ltq</a><br/>Synced 5 W&B file(s), 1 media file(s), 2 artifact file(s) and 2 other file(s)"
            ]
          },
          "metadata": {}
        },
        {
          "output_type": "display_data",
          "data": {
            "text/plain": [
              "<IPython.core.display.HTML object>"
            ],
            "text/html": [
              "Find logs at: <code>./wandb/run-20220403_115335-swwy4ltq/logs</code>"
            ]
          },
          "metadata": {}
        },
        {
          "output_type": "stream",
          "name": "stderr",
          "text": [
            "\u001b[34m\u001b[1mwandb\u001b[0m: Agent Starting Run: l2joz5gs with config:\n",
            "\u001b[34m\u001b[1mwandb\u001b[0m: \tbase_model: RN50\n",
            "\u001b[34m\u001b[1mwandb\u001b[0m: \tbatch_size: 32\n",
            "\u001b[34m\u001b[1mwandb\u001b[0m: \tdense_neurons: 256\n",
            "\u001b[34m\u001b[1mwandb\u001b[0m: \tepochs: 5\n",
            "\u001b[34m\u001b[1mwandb\u001b[0m: \toptimizer: adam\n"
          ]
        },
        {
          "output_type": "display_data",
          "data": {
            "text/plain": [
              "<IPython.core.display.HTML object>"
            ],
            "text/html": [
              "Tracking run with wandb version 0.12.11"
            ]
          },
          "metadata": {}
        },
        {
          "output_type": "display_data",
          "data": {
            "text/plain": [
              "<IPython.core.display.HTML object>"
            ],
            "text/html": [
              "Run data is saved locally in <code>/content/wandb/run-20220403_121936-l2joz5gs</code>"
            ]
          },
          "metadata": {}
        },
        {
          "output_type": "display_data",
          "data": {
            "text/plain": [
              "<IPython.core.display.HTML object>"
            ],
            "text/html": [
              "Syncing run <strong><a href=\"https://wandb.ai/dl22/a-2/runs/l2joz5gs\" target=\"_blank\">sunny-sweep-6</a></strong> to <a href=\"https://wandb.ai/dl22/a-2\" target=\"_blank\">Weights & Biases</a> (<a href=\"https://wandb.me/run\" target=\"_blank\">docs</a>)<br/>Sweep page:  <a href=\"https://wandb.ai/dl22/a-2/sweeps/hixpo6a6\" target=\"_blank\">https://wandb.ai/dl22/a-2/sweeps/hixpo6a6</a>"
            ]
          },
          "metadata": {}
        },
        {
          "output_type": "stream",
          "name": "stdout",
          "text": [
            "Found 9000 images belonging to 10 classes.\n",
            "Found 9000 images belonging to 10 classes.\n",
            "Found 999 images belonging to 10 classes.\n",
            "Epoch 1/2\n",
            "282/282 [==============================] - 385s 1s/step - loss: 1.2899 - accuracy: 0.6019 - val_loss: 0.6437 - val_accuracy: 0.8048 - _timestamp: 1648988775.0000 - _runtime: 399.0000\n",
            "Epoch 2/2\n",
            "282/282 [==============================] - 368s 1s/step - loss: 0.9101 - accuracy: 0.7198 - val_loss: 0.6186 - val_accuracy: 0.8258 - _timestamp: 1648989143.0000 - _runtime: 767.0000\n",
            "Epoch 1/2\n",
            "282/282 [==============================] - 370s 1s/step - loss: 0.8209 - accuracy: 0.7448 - val_loss: 0.5804 - val_accuracy: 0.8228\n",
            "Epoch 2/2\n",
            "282/282 [==============================] - 370s 1s/step - loss: 0.7697 - accuracy: 0.7580 - val_loss: 0.5615 - val_accuracy: 0.8268\n",
            "\n"
          ]
        },
        {
          "output_type": "display_data",
          "data": {
            "text/plain": [
              "<IPython.core.display.HTML object>"
            ],
            "text/html": [
              "Waiting for W&B process to finish... <strong style=\"color:green\">(success).</strong>"
            ]
          },
          "metadata": {}
        },
        {
          "output_type": "display_data",
          "data": {
            "text/plain": [
              "VBox(children=(Label(value='48.571 MB of 48.571 MB uploaded (0.000 MB deduped)\\r'), FloatProgress(value=1.0, m…"
            ],
            "application/vnd.jupyter.widget-view+json": {
              "version_major": 2,
              "version_minor": 0,
              "model_id": "ae69f10aba3f4aea8184de1db0ae6914"
            }
          },
          "metadata": {}
        },
        {
          "output_type": "display_data",
          "data": {
            "text/plain": [
              "<IPython.core.display.HTML object>"
            ],
            "text/html": [
              "<style>\n",
              "    table.wandb td:nth-child(1) { padding: 0 10px; text-align: right }\n",
              "    .wandb-row { display: flex; flex-direction: row; flex-wrap: wrap; width: 100% }\n",
              "    .wandb-col { display: flex; flex-direction: column; flex-basis: 100%; flex: 1; padding: 10px; }\n",
              "    </style>\n",
              "<div class=\"wandb-row\"><div class=\"wandb-col\"><h3>Run history:</h3><br/><table class=\"wandb\"><tr><td>accuracy</td><td>▁█</td></tr><tr><td>dropout</td><td>▁</td></tr><tr><td>epoch</td><td>▁█</td></tr><tr><td>loss</td><td>█▁</td></tr><tr><td>val_acc</td><td>▁</td></tr><tr><td>val_accuracy</td><td>▁█</td></tr><tr><td>val_loss</td><td>█▁</td></tr></table><br/></div><div class=\"wandb-col\"><h3>Run summary:</h3><br/><table class=\"wandb\"><tr><td>accuracy</td><td>0.71978</td></tr><tr><td>augmentation</td><td>yes</td></tr><tr><td>batch_norm</td><td>yes</td></tr><tr><td>best_epoch</td><td>1</td></tr><tr><td>best_val_loss</td><td>0.61858</td></tr><tr><td>dropout</td><td>0.4</td></tr><tr><td>epoch</td><td>1</td></tr><tr><td>loss</td><td>0.91008</td></tr><tr><td>pre_trained_model</td><td>inceptionresnetv2</td></tr><tr><td>val_acc</td><td>0.82683</td></tr><tr><td>val_accuracy</td><td>0.82583</td></tr><tr><td>val_loss</td><td>0.61858</td></tr></table><br/></div></div>"
            ]
          },
          "metadata": {}
        },
        {
          "output_type": "display_data",
          "data": {
            "text/plain": [
              "<IPython.core.display.HTML object>"
            ],
            "text/html": [
              "Synced <strong style=\"color:#cdcd00\">sunny-sweep-6</strong>: <a href=\"https://wandb.ai/dl22/a-2/runs/l2joz5gs\" target=\"_blank\">https://wandb.ai/dl22/a-2/runs/l2joz5gs</a><br/>Synced 5 W&B file(s), 1 media file(s), 2 artifact file(s) and 2 other file(s)"
            ]
          },
          "metadata": {}
        },
        {
          "output_type": "display_data",
          "data": {
            "text/plain": [
              "<IPython.core.display.HTML object>"
            ],
            "text/html": [
              "Find logs at: <code>./wandb/run-20220403_121936-l2joz5gs/logs</code>"
            ]
          },
          "metadata": {}
        },
        {
          "output_type": "stream",
          "name": "stderr",
          "text": [
            "\u001b[34m\u001b[1mwandb\u001b[0m: Agent Starting Run: 57g8nzvc with config:\n",
            "\u001b[34m\u001b[1mwandb\u001b[0m: \tbase_model: IV3\n",
            "\u001b[34m\u001b[1mwandb\u001b[0m: \tbatch_size: 16\n",
            "\u001b[34m\u001b[1mwandb\u001b[0m: \tdense_neurons: 128\n",
            "\u001b[34m\u001b[1mwandb\u001b[0m: \tepochs: 10\n",
            "\u001b[34m\u001b[1mwandb\u001b[0m: \toptimizer: adam\n"
          ]
        },
        {
          "output_type": "display_data",
          "data": {
            "text/plain": [
              "<IPython.core.display.HTML object>"
            ],
            "text/html": [
              "Tracking run with wandb version 0.12.11"
            ]
          },
          "metadata": {}
        },
        {
          "output_type": "display_data",
          "data": {
            "text/plain": [
              "<IPython.core.display.HTML object>"
            ],
            "text/html": [
              "Run data is saved locally in <code>/content/wandb/run-20220403_124535-57g8nzvc</code>"
            ]
          },
          "metadata": {}
        },
        {
          "output_type": "display_data",
          "data": {
            "text/plain": [
              "<IPython.core.display.HTML object>"
            ],
            "text/html": [
              "Syncing run <strong><a href=\"https://wandb.ai/dl22/a-2/runs/57g8nzvc\" target=\"_blank\">glowing-sweep-7</a></strong> to <a href=\"https://wandb.ai/dl22/a-2\" target=\"_blank\">Weights & Biases</a> (<a href=\"https://wandb.me/run\" target=\"_blank\">docs</a>)<br/>Sweep page:  <a href=\"https://wandb.ai/dl22/a-2/sweeps/hixpo6a6\" target=\"_blank\">https://wandb.ai/dl22/a-2/sweeps/hixpo6a6</a>"
            ]
          },
          "metadata": {}
        },
        {
          "output_type": "stream",
          "name": "stdout",
          "text": [
            "Found 9000 images belonging to 10 classes.\n",
            "Found 9000 images belonging to 10 classes.\n",
            "Found 999 images belonging to 10 classes.\n",
            "Epoch 1/2\n",
            "282/282 [==============================] - 390s 1s/step - loss: 1.2865 - accuracy: 0.6014 - val_loss: 0.6291 - val_accuracy: 0.8088 - _timestamp: 1648990340.0000 - _runtime: 405.0000\n",
            "Epoch 2/2\n",
            "282/282 [==============================] - 366s 1s/step - loss: 0.8988 - accuracy: 0.7190 - val_loss: 0.6364 - val_accuracy: 0.7948 - _timestamp: 1648990708.0000 - _runtime: 773.0000\n",
            "Epoch 1/2\n",
            "282/282 [==============================] - 366s 1s/step - loss: 0.8088 - accuracy: 0.7490 - val_loss: 0.5981 - val_accuracy: 0.8278\n",
            "Epoch 2/2\n",
            "282/282 [==============================] - 367s 1s/step - loss: 0.7631 - accuracy: 0.7591 - val_loss: 0.5438 - val_accuracy: 0.8338\n",
            "\n"
          ]
        },
        {
          "output_type": "display_data",
          "data": {
            "text/plain": [
              "<IPython.core.display.HTML object>"
            ],
            "text/html": [
              "Waiting for W&B process to finish... <strong style=\"color:green\">(success).</strong>"
            ]
          },
          "metadata": {}
        },
        {
          "output_type": "display_data",
          "data": {
            "text/plain": [
              "VBox(children=(Label(value='0.130 MB of 0.130 MB uploaded (0.000 MB deduped)\\r'), FloatProgress(value=1.0, max…"
            ],
            "application/vnd.jupyter.widget-view+json": {
              "version_major": 2,
              "version_minor": 0,
              "model_id": "329e7a075f9a4c00bb6aa2ffb0760c1f"
            }
          },
          "metadata": {}
        },
        {
          "output_type": "display_data",
          "data": {
            "text/plain": [
              "<IPython.core.display.HTML object>"
            ],
            "text/html": [
              "<style>\n",
              "    table.wandb td:nth-child(1) { padding: 0 10px; text-align: right }\n",
              "    .wandb-row { display: flex; flex-direction: row; flex-wrap: wrap; width: 100% }\n",
              "    .wandb-col { display: flex; flex-direction: column; flex-basis: 100%; flex: 1; padding: 10px; }\n",
              "    </style>\n",
              "<div class=\"wandb-row\"><div class=\"wandb-col\"><h3>Run history:</h3><br/><table class=\"wandb\"><tr><td>accuracy</td><td>▁█</td></tr><tr><td>dropout</td><td>▁</td></tr><tr><td>epoch</td><td>▁█</td></tr><tr><td>loss</td><td>█▁</td></tr><tr><td>val_acc</td><td>▁</td></tr><tr><td>val_accuracy</td><td>█▁</td></tr><tr><td>val_loss</td><td>▁█</td></tr></table><br/></div><div class=\"wandb-col\"><h3>Run summary:</h3><br/><table class=\"wandb\"><tr><td>accuracy</td><td>0.719</td></tr><tr><td>augmentation</td><td>yes</td></tr><tr><td>batch_norm</td><td>yes</td></tr><tr><td>best_epoch</td><td>0</td></tr><tr><td>best_val_loss</td><td>0.62907</td></tr><tr><td>dropout</td><td>0.4</td></tr><tr><td>epoch</td><td>1</td></tr><tr><td>loss</td><td>0.89876</td></tr><tr><td>pre_trained_model</td><td>inceptionresnetv2</td></tr><tr><td>val_acc</td><td>0.83383</td></tr><tr><td>val_accuracy</td><td>0.79479</td></tr><tr><td>val_loss</td><td>0.63642</td></tr></table><br/></div></div>"
            ]
          },
          "metadata": {}
        },
        {
          "output_type": "display_data",
          "data": {
            "text/plain": [
              "<IPython.core.display.HTML object>"
            ],
            "text/html": [
              "Synced <strong style=\"color:#cdcd00\">glowing-sweep-7</strong>: <a href=\"https://wandb.ai/dl22/a-2/runs/57g8nzvc\" target=\"_blank\">https://wandb.ai/dl22/a-2/runs/57g8nzvc</a><br/>Synced 5 W&B file(s), 1 media file(s), 2 artifact file(s) and 2 other file(s)"
            ]
          },
          "metadata": {}
        },
        {
          "output_type": "display_data",
          "data": {
            "text/plain": [
              "<IPython.core.display.HTML object>"
            ],
            "text/html": [
              "Find logs at: <code>./wandb/run-20220403_124535-57g8nzvc/logs</code>"
            ]
          },
          "metadata": {}
        },
        {
          "output_type": "stream",
          "name": "stderr",
          "text": [
            "\u001b[34m\u001b[1mwandb\u001b[0m: Agent Starting Run: hi16vp0g with config:\n",
            "\u001b[34m\u001b[1mwandb\u001b[0m: \tbase_model: IV3\n",
            "\u001b[34m\u001b[1mwandb\u001b[0m: \tbatch_size: 16\n",
            "\u001b[34m\u001b[1mwandb\u001b[0m: \tdense_neurons: 256\n",
            "\u001b[34m\u001b[1mwandb\u001b[0m: \tepochs: 5\n",
            "\u001b[34m\u001b[1mwandb\u001b[0m: \toptimizer: adam\n"
          ]
        },
        {
          "output_type": "display_data",
          "data": {
            "text/plain": [
              "<IPython.core.display.HTML object>"
            ],
            "text/html": [
              "Tracking run with wandb version 0.12.11"
            ]
          },
          "metadata": {}
        },
        {
          "output_type": "display_data",
          "data": {
            "text/plain": [
              "<IPython.core.display.HTML object>"
            ],
            "text/html": [
              "Run data is saved locally in <code>/content/wandb/run-20220403_131124-hi16vp0g</code>"
            ]
          },
          "metadata": {}
        },
        {
          "output_type": "display_data",
          "data": {
            "text/plain": [
              "<IPython.core.display.HTML object>"
            ],
            "text/html": [
              "Syncing run <strong><a href=\"https://wandb.ai/dl22/a-2/runs/hi16vp0g\" target=\"_blank\">vocal-sweep-8</a></strong> to <a href=\"https://wandb.ai/dl22/a-2\" target=\"_blank\">Weights & Biases</a> (<a href=\"https://wandb.me/run\" target=\"_blank\">docs</a>)<br/>Sweep page:  <a href=\"https://wandb.ai/dl22/a-2/sweeps/hixpo6a6\" target=\"_blank\">https://wandb.ai/dl22/a-2/sweeps/hixpo6a6</a>"
            ]
          },
          "metadata": {}
        },
        {
          "output_type": "stream",
          "name": "stdout",
          "text": [
            "Found 9000 images belonging to 10 classes.\n",
            "Found 9000 images belonging to 10 classes.\n",
            "Found 999 images belonging to 10 classes.\n",
            "Epoch 1/2\n",
            "282/282 [==============================] - 385s 1s/step - loss: 1.3118 - accuracy: 0.5859 - val_loss: 0.6399 - val_accuracy: 0.8018 - _timestamp: 1648991882.0000 - _runtime: 398.0000\n",
            "Epoch 2/2\n",
            "282/282 [==============================] - 364s 1s/step - loss: 0.8954 - accuracy: 0.7244 - val_loss: 0.5938 - val_accuracy: 0.8248 - _timestamp: 1648992246.0000 - _runtime: 762.0000\n",
            "Epoch 1/2\n",
            "103/282 [=========>....................] - ETA: 3:36 - loss: 0.8422 - accuracy: 0.7330"
          ]
        }
      ]
    },
    {
      "cell_type": "code",
      "metadata": {
        "id": "TPYcMQWgBUX_",
        "colab": {
          "base_uri": "https://localhost:8080/",
          "height": 346
        },
        "outputId": "caa5bb65-a3e9-431b-d8e4-aacb5387dd68"
      },
      "source": [
        "#Trial run with config defaults\n",
        "PreTrain()"
      ],
      "execution_count": 8,
      "outputs": [
        {
          "output_type": "display_data",
          "data": {
            "text/plain": [
              "<IPython.core.display.Javascript object>"
            ],
            "application/javascript": [
              "\n",
              "        window._wandbApiKey = new Promise((resolve, reject) => {\n",
              "            function loadScript(url) {\n",
              "            return new Promise(function(resolve, reject) {\n",
              "                let newScript = document.createElement(\"script\");\n",
              "                newScript.onerror = reject;\n",
              "                newScript.onload = resolve;\n",
              "                document.body.appendChild(newScript);\n",
              "                newScript.src = url;\n",
              "            });\n",
              "            }\n",
              "            loadScript(\"https://cdn.jsdelivr.net/npm/postmate/build/postmate.min.js\").then(() => {\n",
              "            const iframe = document.createElement('iframe')\n",
              "            iframe.style.cssText = \"width:0;height:0;border:none\"\n",
              "            document.body.appendChild(iframe)\n",
              "            const handshake = new Postmate({\n",
              "                container: iframe,\n",
              "                url: 'https://wandb.ai/authorize'\n",
              "            });\n",
              "            const timeout = setTimeout(() => reject(\"Couldn't auto authenticate\"), 5000)\n",
              "            handshake.then(function(child) {\n",
              "                child.on('authorize', data => {\n",
              "                    clearTimeout(timeout)\n",
              "                    resolve(data)\n",
              "                });\n",
              "            });\n",
              "            })\n",
              "        });\n",
              "    "
            ]
          },
          "metadata": {}
        },
        {
          "output_type": "stream",
          "name": "stderr",
          "text": [
            "\u001b[34m\u001b[1mwandb\u001b[0m: Appending key for api.wandb.ai to your netrc file: /root/.netrc\n"
          ]
        },
        {
          "output_type": "display_data",
          "data": {
            "text/plain": [
              "<IPython.core.display.HTML object>"
            ],
            "text/html": [
              "Tracking run with wandb version 0.12.14"
            ]
          },
          "metadata": {}
        },
        {
          "output_type": "display_data",
          "data": {
            "text/plain": [
              "<IPython.core.display.HTML object>"
            ],
            "text/html": [
              "Run data is saved locally in <code>/content/wandb/run-20220409_095717-o94kk5v0</code>"
            ]
          },
          "metadata": {}
        },
        {
          "output_type": "display_data",
          "data": {
            "text/plain": [
              "<IPython.core.display.HTML object>"
            ],
            "text/html": [
              "Syncing run <strong><a href=\"https://wandb.ai/dl22/uncategorized/runs/o94kk5v0\" target=\"_blank\">fast-star-3</a></strong> to <a href=\"https://wandb.ai/dl22/uncategorized\" target=\"_blank\">Weights & Biases</a> (<a href=\"https://wandb.me/run\" target=\"_blank\">docs</a>)<br/>"
            ]
          },
          "metadata": {}
        },
        {
          "output_type": "stream",
          "name": "stdout",
          "text": [
            "Downloading data from https://storage.googleapis.com/tensorflow/keras-applications/inception_resnet_v2/inception_resnet_v2_weights_tf_dim_ordering_tf_kernels_notop.h5\n",
            "219062272/219055592 [==============================] - 2s 0us/step\n",
            "219070464/219055592 [==============================] - 2s 0us/step\n",
            "Found 9000 images belonging to 10 classes.\n",
            "Found 9000 images belonging to 10 classes.\n",
            "Found 999 images belonging to 10 classes.\n",
            "Epoch 1/2\n",
            "282/282 [==============================] - 429s 1s/step - loss: 1.3598 - accuracy: 0.5811 - val_loss: 0.6286 - val_accuracy: 0.8068 - _timestamp: 1649498686.0000 - _runtime: 449.0000\n",
            "Epoch 2/2\n",
            "282/282 [==============================] - 394s 1s/step - loss: 0.9051 - accuracy: 0.7203 - val_loss: 0.6206 - val_accuracy: 0.8078 - _timestamp: 1649499080.0000 - _runtime: 843.0000\n",
            "Epoch 1/2\n",
            "282/282 [==============================] - 386s 1s/step - loss: 0.8187 - accuracy: 0.7422 - val_loss: 0.5532 - val_accuracy: 0.8208\n",
            "Epoch 2/2\n",
            "282/282 [==============================] - 386s 1s/step - loss: 0.7784 - accuracy: 0.7560 - val_loss: 0.5651 - val_accuracy: 0.8228\n"
          ]
        }
      ]
    },
    {
      "cell_type": "code",
      "metadata": {
        "colab": {
          "base_uri": "https://localhost:8080/"
        },
        "id": "Ul28lGnRy_uh",
        "outputId": "4cdf4253-e4f7-457e-8b0d-903b4cda62d4"
      },
      "source": [
        "#not the correct one\n",
        "#trial\n",
        "#discard\n",
        "#data generator for test set\n",
        "wandb.init(config=config_defaults)\n",
        "configs=config_defaults\n",
        "\n",
        "batchnorm=configs['batchnorm']\n",
        "droprate=configs['droprate']\n",
        "augmentation=configs['augmentation']\n",
        "fc_size=configs['fc_size']\n",
        "pre_train = configs['pre_train']\n",
        " #wandb.run.name='model_'+pre_train+'_fc_2_size_'+str(fc_size)+'_droprate_'+str(droprate)+ str('_bn_' if batchnorm=='yes' else '') +str('augment' if augmentation=='yes' else '')\n",
        "\n",
        "img_height = 299\n",
        "img_width = 299\n",
        "base_model = InceptionResNetV2(include_top=False, weights='imagenet',input_shape=(img_height, img_width,3))\n",
        "\n",
        "model = keras.Sequential([\n",
        "      tf.keras.Input(shape=(img_height, img_width,3,)),\n",
        "      base_model,\n",
        "      Flatten(),\n",
        "      Dense(fc_size,activation='relu'),\n",
        "      \n",
        "  ])\n",
        "\n",
        "\n",
        "model.add(BatchNormalization())\n",
        "model.add(Dropout(droprate))\n",
        "model.add(Dense(fc_size, activation='relu'))\n",
        "model.add(Dropout(droprate))\n",
        "model.add(Dense(10 ,activation='softmax'))\n",
        "\n",
        "\n",
        "test_datagen = ImageDataGenerator(\n",
        "    rescale=1.0 / 255,\n",
        "  )\n",
        "\n",
        "test_set = test_datagen.flow_from_directory(\n",
        "      test_dir,\n",
        "      target_size=(299,299),\n",
        "      color_mode='rgb',\n",
        "      class_mode='sparse',\n",
        "      shuffle=True,\n",
        "      seed=123,\n",
        "  )\n",
        "\n",
        "model.compile(\n",
        "    optimizer=tf.keras.optimizers.Adam(),\n",
        "    loss=[tf.keras.losses.SparseCategoricalCrossentropy()],\n",
        "    metrics=['accuracy'],\n",
        "  )\n",
        "\n",
        "\n",
        "#evaluating model on test set\n",
        "model.evaluate(test_set)"
      ],
      "execution_count": 13,
      "outputs": [
        {
          "output_type": "stream",
          "name": "stdout",
          "text": [
            "Found 2000 images belonging to 10 classes.\n",
            "63/63 [==============================] - 55s 767ms/step - loss: 2.4637 - accuracy: 0.0855\n"
          ]
        },
        {
          "output_type": "execute_result",
          "data": {
            "text/plain": [
              "[2.463688611984253, 0.08550000190734863]"
            ]
          },
          "metadata": {},
          "execution_count": 13
        }
      ]
    },
    {
      "cell_type": "code",
      "source": [
        "# Defining model with best configs to evaluate on test set  \n",
        "#initializing the sweeps with defaults set\n",
        "wandb.init(config=config_defaults)\n",
        "configs=config_defaults\n",
        "\n",
        "batchnorm=configs['batchnorm']\n",
        "droprate=configs['droprate']\n",
        "augmentation=configs['augmentation']\n",
        "fc_size=configs['fc_size']\n",
        "pre_train = configs['pre_train']\n",
        "\n",
        "  #wandb.run.name='model_'+pre_train+'_fc_2_size_'+str(fc_size)+'_droprate_'+str(droprate)+ str('_bn_' if batchnorm=='yes' else '') +str('augment' if augmentation=='yes' else '')\n",
        "\n",
        "#setting up a flexible pretrained model \n",
        "#assigning the weights already available as imagenet\n",
        "#the input image size as height*width*channels\n",
        "  \n",
        "#the include_top part when we speify it as false, we chose not to include the fully connected layers and have more freedom on how to work with the model with a given possibility to retrain the weights of the model.\n",
        "\n",
        "if pre_train == 'inceptionv3':\n",
        "  img_height = 299\n",
        "  img_width = 299\n",
        "  base_model = InceptionV3(include_top=False, weights='imagenet',input_shape=(img_height, img_width,3))\n",
        "\n",
        "if pre_train == 'inceptionresnetv2':\n",
        "  img_height = 299\n",
        "  img_width = 299\n",
        "  base_model = InceptionResNetV2(include_top=False, weights='imagenet',input_shape=(img_height, img_width,3))\n",
        "\n",
        "if pre_train == 'resnet50':\n",
        "  img_height = 224\n",
        "  img_width = 224\n",
        "  base_model = ResNet50(include_top=False, weights='imagenet',input_shape=(img_height, img_width,3))\n",
        "\n",
        "if pre_train == 'Xception':\n",
        "  img_height = 299\n",
        "  img_width = 299\n",
        "  base_model = Xception(include_top=False, weights='imagenet',input_shape=(img_height, img_width,3))  \n",
        "\n",
        "\n",
        "for layers in base_model.layers:\n",
        "  layers.trainable = False\n",
        "\n",
        "#setting up the flatten layer\n",
        "model = keras.Sequential([\n",
        "      tf.keras.Input(shape=(img_height, img_width,3,)),\n",
        "      base_model,\n",
        "      Flatten(),\n",
        "      Dense(fc_size,activation='relu'),\n",
        "      \n",
        "])\n",
        "\n",
        "#adding batch normalization\n",
        "if batchnorm == 'yes':\n",
        "  model.add(BatchNormalization())\n",
        "\n",
        "#adding parameters to the model\n",
        "model.add(Dropout(droprate))\n",
        "model.add(Dense(fc_size, activation='relu'))\n",
        "model.add(Dropout(droprate))\n",
        "\n",
        "#adding the last layer with 10 classes and activation function as softmax \n",
        "model.add(Dense(10 ,activation='softmax'))\n",
        "  \n",
        "\n",
        "#data generators for train(with and without validation) and validation\n",
        "augment= ImageDataGenerator(\n",
        "    rotation_range=30,\n",
        "    width_shift_range=0.2,\n",
        "    height_shift_range=0.2,\n",
        "    zoom_range=0.2,\n",
        "    horizontal_flip=True,\n",
        "    rescale=1.0 / 255,\n",
        "    validation_split=0.1,\n",
        "    dtype=tf.float32,\n",
        ")\n",
        "\n",
        "datagen = ImageDataGenerator(\n",
        "    rescale=1.0 / 255,\n",
        "    validation_split=0.1,\n",
        "    dtype=tf.float32,\n",
        ")\n",
        "\n",
        "train_set = datagen.flow_from_directory(\n",
        "    train_dir,\n",
        "    target_size=(img_height, img_width),\n",
        "    batch_size=32,\n",
        "    color_mode='rgb',\n",
        "    class_mode='sparse',\n",
        "    shuffle=True,\n",
        "    subset='training',\n",
        "    seed=123,\n",
        ")\n",
        "\n",
        "aug_set = augment.flow_from_directory(\n",
        "      train_dir,\n",
        "      target_size=(img_height, img_width),\n",
        "      batch_size=32,\n",
        "      color_mode='rgb',\n",
        "      class_mode='sparse',\n",
        "      shuffle=True,\n",
        "      subset='training',\n",
        "      seed=123,\n",
        ")\n",
        "\n",
        "val_set = datagen.flow_from_directory(\n",
        "      train_dir,\n",
        "      target_size=(img_height, img_width),\n",
        "      color_mode='rgb',\n",
        "      class_mode='sparse',\n",
        "      shuffle=True,\n",
        "      subset='validation',\n",
        "      seed=123,\n",
        ")\n",
        "\n",
        "#compiling the whole model with parameters and associating the losses in the model as cross entropy\n",
        " \n",
        "model.compile(\n",
        "    optimizer=tf.keras.optimizers.Adam(),\n",
        "    loss=[tf.keras.losses.SparseCategoricalCrossentropy()],\n",
        "    metrics=['accuracy'],\n",
        ")\n",
        "  #making the model flexible for augmentation\n",
        "  # giving the callback for data plot as wandb\n",
        "if augmentation =='no' :\n",
        "  hist=model.fit(train_set,epochs=2,validation_data=val_set,callbacks=[WandbCallback()]) \n",
        "  hist=model.fit(train_set,epochs=2,validation_data=val_set)\n",
        "  \n",
        "else:\n",
        "  hist=model.fit(aug_set,epochs=2,validation_data=val_set,callbacks=[WandbCallback()])\n",
        "  hist=model.fit(aug_set,epochs=2,validation_data=val_set)"
      ],
      "metadata": {
        "id": "Yd9ter2kzQQF"
      },
      "execution_count": null,
      "outputs": []
    },
    {
      "cell_type": "code",
      "metadata": {
        "id": "WDZzNGje_m0E"
      },
      "source": [
        "test_datagen = ImageDataGenerator(\n",
        "    rescale=1.0 / 255,\n",
        "  )\n",
        "\n",
        "test_set = test_datagen.flow_from_directory(\n",
        "      test_dir,\n",
        "      target_size=(299,299),\n",
        "      color_mode='rgb',\n",
        "      class_mode='sparse',\n",
        "      shuffle=True,\n",
        "      seed=123,\n",
        "  )\n",
        "model.evaluate(test_set)"
      ],
      "execution_count": null,
      "outputs": []
    }
  ]
}