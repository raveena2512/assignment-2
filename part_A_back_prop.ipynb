{
  "nbformat": 4,
  "nbformat_minor": 0,
  "metadata": {
    "colab": {
      "name": "part_A_back_prop",
      "provenance": []
    },
    "kernelspec": {
      "name": "python3",
      "display_name": "Python 3"
    },
    "language_info": {
      "name": "python"
    }
  },
  "cells": [
    {
      "cell_type": "code",
      "execution_count": null,
      "metadata": {
        "id": "GCSwn7QFGgk8"
      },
      "outputs": [],
      "source": [
        "name_layer = 'conv5'\n",
        "\n",
        "@tf.custom_gradient\n",
        "def guided_Relu(x):\n",
        "  def grad_1(dy):\n",
        "    return tf.cast(dy>0,\"float32\") * tf.cast(x>0, \"float32\") * dy\n",
        "  return tf.nn.relu(x), grad_1\n",
        "\n",
        "\n",
        "\n",
        "def back_prop(model, layer=name_layer, N_new=10, cat = 0,fil = 2):\n",
        "  gb_model = tf.keras.models.Model(\n",
        "    inputs = [model.inputs],    \n",
        "    outputs = [model.get_layer(name_layer).output])\n",
        "  layer_dict = [layer for layer in gb_model.layers[1:] if hasattr(layer,'activation')]\n",
        "\n",
        "  for layer in layer_dict:\n",
        "    if layer.activation == tf.keras.activations.relu:\n",
        "      layer.activation = guided_Relu\n",
        "  category = categories[cat]\n",
        "  dir=os.path.join(train_dir,category)\n",
        "  fig = plt.figure(figsize=(30,20))\n",
        "  for img in os.listdir(dir):\n",
        "    columns=5\n",
        "    rows = 2\n",
        "    \n",
        "    img_path=(os.path.join(dir,img))\n",
        "    imgs=cv2.imread(img_path)\n",
        "    imgs=mpimg.imread(img_path)\n",
        "    new_img=cv2.resize(imgs,(300,300))\n",
        "    x = np.expand_dims(new_img, axis=0)\n",
        "    j=1\n",
        "    i=0\n",
        "    while j <= N_new:\n",
        "      with tf.GradientTape() as tape:\n",
        "        inputs = tf.cast(x, tf.float32)\n",
        "        tape.watch(inputs)\n",
        "        outputs = gb_model(inputs)[0]\n",
        "        \n",
        "      \n",
        "        \n",
        "        if outputs[i,i,fil] != 0:\n",
        "          out = outputs[i,i,fil]\n",
        "          grads = tape.gradient(out,inputs)[0]\n",
        "          guided_back_prop =grads\n",
        "          gb_viz = np.dstack((\n",
        "                      guided_back_prop[:, :, 0],\n",
        "                      guided_back_prop[:, :, 1],\n",
        "                      guided_back_prop[:, :, 2],\n",
        "                  ))       \n",
        "          gb_viz -= np.min(gb_viz)\n",
        "          gb_viz /= gb_viz.max()\n",
        "          fig.add_subplot(rows,columns,j)\n",
        "          plt.imshow(gb_viz)\n",
        "          plt.title(category)\n",
        "          j+=1\n",
        "          i+=1\n",
        "        else:\n",
        "          i+=1  \n",
        "    break"
      ]
    },
    {
      "cell_type": "code",
      "source": [
        "back_prop(model)"
      ],
      "metadata": {
        "id": "LOTRmWvSGiYc"
      },
      "execution_count": null,
      "outputs": []
    }
  ]
}