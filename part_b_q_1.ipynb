{
  "nbformat": 4,
  "nbformat_minor": 0,
  "metadata": {
    "colab": {
      "name": "part-b_q-1",
      "provenance": [],
      "collapsed_sections": []
    },
    "kernelspec": {
      "name": "python3",
      "display_name": "Python 3"
    },
    "language_info": {
      "name": "python"
    }
  },
  "cells": [
    {
      "cell_type": "code",
      "execution_count": null,
      "metadata": {
        "id": "mHNPKlrhJsuM"
      },
      "outputs": [],
      "source": [
        "#importing the dataset to be worked on = inaturalist dataset\n",
        "\n",
        "%%capture\n",
        "!curl -SL https://storage.googleapis.com/wandb_datasets/nature_12K.zip > nature_12K.zip\n",
        "!unzip nature_12K.zip\n",
        "\n",
        "train_dir='inaturalist_12K/train/'\n",
        "test_dir='inaturalist_12K/val/'\n",
        "\n",
        "#specifying the classes as present in the iNaturalist dataset\n",
        " \n",
        "categories=['Amphibia','Animalia','Arachnida','Aves','Fungi','Insecta','Mammalia','Mollusca','Plantae','Reptilia']\n",
        "\n",
        "#so as we can see there are 10 classes in the inaturalist dataset. specifying the classes will make sure to use 10 classes instead of 1000.\n",
        "#remove the last layer and add layer of size 10 as the number of classes."
      ]
    },
    {
      "cell_type": "code",
      "source": [
        "#importing the libraries required\n",
        "import numpy as np\n",
        "import pandas as pd\n",
        "import os\n",
        "import keras\n",
        "import tensorflow as tf\n",
        "from tensorflow.keras import layers,models\n",
        "from tensorflow.keras.layers import Conv2D, MaxPooling2D, Dropout, Dense, Flatten, Activation , BatchNormalization\n",
        "\n",
        "#importing ImageDataGenarator for data augmentation \n",
        "from tensorflow.keras.preprocessing.image import ImageDataGenerator\n",
        "import matplotlib.pyplot as plt\n",
        "import cv2"
      ],
      "metadata": {
        "id": "1rIUkxvKMZgW"
      },
      "execution_count": null,
      "outputs": []
    },
    {
      "cell_type": "code",
      "source": [
        "#importing the pretrained models from keras\n",
        "from keras.applications.vgg16 import VGG16\n",
        "from keras.applications.inception_v3 import InceptionV3 as IV3\n",
        "from keras.applications.inception_resnet_v2 import InceptionResNetV2 as IRV2\n",
        "from tensorflow.keras.applications.resnet50 import ResNet50 as RN50\n",
        "from keras.applications.xception import Xception as XCPTN"
      ],
      "metadata": {
        "id": "QEnbiJXDNBYI"
      },
      "execution_count": null,
      "outputs": []
    },
    {
      "cell_type": "code",
      "source": [
        "# wandb loading \n",
        "!pip install wandb\n",
        "import wandb\n"
      ],
      "metadata": {
        "id": "O2TXAcpJNPP8"
      },
      "execution_count": null,
      "outputs": []
    },
    {
      "cell_type": "code",
      "source": [
        "#wandb callback\n",
        "from wandb.keras import WandbCallback"
      ],
      "metadata": {
        "id": "sKLT9h-2NpT-"
      },
      "execution_count": null,
      "outputs": []
    },
    {
      "cell_type": "code",
      "source": [
        "# resizing the image as img_height*img_width*3\n",
        "# an example of implementation as follows\n",
        "\n",
        "#img_height= 299\n",
        "#img_width= 299\n",
        "#base_model= InceptionV3(include_top=False, weights='imagenet',input_shape=(img_height, img_width,3))"
      ],
      "metadata": {
        "id": "nZMf9VpFOD_K"
      },
      "execution_count": null,
      "outputs": []
    },
    {
      "cell_type": "code",
      "source": [
        "#dropping the last layer and adding a layer with 10 classes\n",
        "\n",
        "#base_model= InceptionV3(include_top=False, weights='imagenet',input_shape=(img_height, img_width,3))\n",
        "#model.add(Dense(10 ,activation='softmax'))\n"
      ],
      "metadata": {
        "id": "jxHehLngoOLD"
      },
      "execution_count": null,
      "outputs": []
    }
  ]
}